{
  "nbformat": 4,
  "nbformat_minor": 0,
  "metadata": {
    "colab": {
      "provenance": [],
      "authorship_tag": "ABX9TyNXdzqPnJSxhPfD7xk8ryAU",
      "include_colab_link": true
    },
    "kernelspec": {
      "name": "python3",
      "display_name": "Python 3"
    },
    "language_info": {
      "name": "python"
    }
  },
  "cells": [
    {
      "cell_type": "markdown",
      "metadata": {
        "id": "view-in-github",
        "colab_type": "text"
      },
      "source": [
        "<a href=\"https://colab.research.google.com/github/aknip/Coding-Cheatsheets/blob/main/Python-Playwright-Webscraping.ipynb\" target=\"_parent\"><img src=\"https://colab.research.google.com/assets/colab-badge.svg\" alt=\"Open In Colab\"/></a>"
      ]
    },
    {
      "cell_type": "markdown",
      "source": [
        "# Playwright Basics\n",
        "\n",
        "- In a Jupyter Notebook you must use async/await"
      ],
      "metadata": {
        "id": "F84rtNMkLKVo"
      }
    },
    {
      "cell_type": "markdown",
      "source": [
        "# How to record\n",
        "- In Terminal:\n",
        "```\n",
        "playWright codegen \"http://scrapfly.io/\"\n",
        "```\n",
        "- This starts Chromium and records all your interaction in Python code\n",
        "- see https://playwright.dev/docs/codegen#running-codegen"
      ],
      "metadata": {
        "id": "xb2nuUerRICp"
      }
    },
    {
      "cell_type": "code",
      "source": [
        "%%bash\n",
        "playWright codegen \"http://scrapfly.io/\""
      ],
      "metadata": {
        "id": "7qVLDQdqRFQR"
      },
      "execution_count": null,
      "outputs": []
    },
    {
      "cell_type": "markdown",
      "source": [
        "# How to work interactively, exploring the website\n",
        "\n",
        "Overview: Start REPL (eg. iPython in Terminal) and write Python code lines. See https://scrapfly.io/blog/web-scraping-with-playwright-and-python/#tip-playwright-in-repl\n",
        "\n",
        "**Step 1:**\n",
        "\n",
        "In Terminal:\n",
        "```\n",
        "ipython\n",
        "```\n",
        "\n",
        "**Step 2:**\n",
        "\n",
        "In ipython:\n",
        "```\n",
        "import nest_asyncio; nest_asyncio.apply()  # This is needed to use sync API in repl\n",
        "from playwright.sync_api import sync_playwright\n",
        "pw = sync_playwright().start()\n",
        "chrome = pw.chromium.launch(headless=False)\n",
        "page = chrome.new_page()\n",
        "page.goto(\"http://scrapfly.io/\")\n",
        "```\n",
        "\n",
        "**Step 3:**\n",
        "\n",
        "In ipython:\n",
        "```\n",
        "temp = page.get_by_text('Web Scraping API')\n",
        "temp.highlight()\n",
        "# or:\n",
        "page.get_by_text('Web Scraping API').highlight()\n",
        "page.locator('.btn-primary').highlight()\n",
        "page.get_by_text('Try for free').highlight()\n",
        "```"
      ],
      "metadata": {
        "id": "eP7D3m0LYU-r"
      }
    },
    {
      "cell_type": "markdown",
      "source": [
        "# Cheatsheet\n",
        "\n",
        "# Locators\n",
        "page.get_by_label(\"Username\").fill(\"username\")\n",
        "page.get_by_label(\"Username\").press(\"Tab\")\n",
        "page.get_by_label(\"Password\").fill(\"passwd\")\n",
        "page.get_by_label(\"Password\").press(\"Enter\")\n",
        "\n",
        "page.get_by_label(\"Username\").click()\n",
        "page.get_by_label(\"Username\").fill(\"username\")\n",
        "page.get_by_label(\"Username\").press(\"Tab\")\n",
        "page.get_by_label(\"Password\").fill(\"passwd\")\n",
        "page.get_by_label(\"Password\").press(\"Enter\")\n",
        "\n",
        "page.locator('.classname').click()\n",
        "\n",
        "# wait time\n",
        "page.wait_for_timeout(500)\n",
        "\n",
        "# wait for (non-)visibility / availability in DOM\n",
        "page.wait_for_selector(\".spinner\", state=\"visible\")\n",
        "page.wait_for_selector(\".spinner\", state=\"hidden\")\n",
        "\n",
        "# Parsing of DOM, with and without Beautifulsoup\n",
        "https://scrapfly.io/blog/web-scraping-with-playwright-and-python/#parsing-data"
      ],
      "metadata": {
        "id": "xjgljlVnRXdB"
      }
    },
    {
      "cell_type": "markdown",
      "source": [
        "# Installation"
      ],
      "metadata": {
        "id": "Hceq8YFR2hBA"
      }
    },
    {
      "cell_type": "code",
      "source": [
        "%%capture --no-stderr\n",
        "import psutil\n",
        "IN_NOTEBOOK = any([\"jupyter-notebook\" in i for i in psutil.Process().parent().cmdline()])\n",
        "if IN_NOTEBOOK:\n",
        "  try:\n",
        "      from playwright.async_api import async_playwright\n",
        "      from playwright.sync_api import Page, expect\n",
        "      from loguru import logger\n",
        "  except ImportError:\n",
        "      !pip install pytest-playwright loguru --quiet\n",
        "      !playwright install\n",
        "      # same imports as above...\n",
        "      from playwright.async_api import async_playwright\n",
        "      from playwright.sync_api import Page, expect\n",
        "      from loguru import logger\n",
        "\n",
        "import json\n",
        "import sys, os, shutil\n",
        "import asyncio\n",
        "import atexit\n",
        "from getpass import getpass\n",
        "import warnings\n",
        "from datetime import datetime\n",
        "\n",
        "warnings.filterwarnings('ignore')"
      ],
      "metadata": {
        "id": "q6d3n3uv-wU-"
      },
      "execution_count": null,
      "outputs": []
    },
    {
      "cell_type": "code",
      "source": [
        "if IN_NOTEBOOK:\n",
        "  try: CREDS\n",
        "  except NameError:\n",
        "    CREDS = json.loads(getpass(\"Secrets (JSON string): \"))\n",
        "    os.environ['CREDS'] = json.dumps(CREDS)\n",
        "    CREDS = json.loads(os.getenv('CREDS'))"
      ],
      "metadata": {
        "id": "0w42o4x200XM"
      },
      "execution_count": null,
      "outputs": []
    },
    {
      "cell_type": "markdown",
      "source": [
        "# Project configuration, setup folder, logging"
      ],
      "metadata": {
        "id": "A7-0cIsPK-uE"
      }
    },
    {
      "cell_type": "code",
      "source": [
        "time_tracking_url = CREDS['Timebook-M1']['URL']['URL']\n",
        "tickets_url = CREDS['Tickets-M1']['URL']['URL']\n",
        "login_username = CREDS['myCred']['credential']['username']\n",
        "login_password = CREDS['myCred']['credential']['password']\n",
        "proj_folder = 'project'"
      ],
      "metadata": {
        "id": "jJvitCxI1D2J"
      },
      "execution_count": null,
      "outputs": []
    },
    {
      "cell_type": "code",
      "source": [
        "# Delete / create directory\n",
        "if os.path.exists(proj_folder):\n",
        "    shutil.rmtree(proj_folder)\n",
        "os.mkdir(proj_folder)"
      ],
      "metadata": {
        "id": "XLic5t6ePv-7"
      },
      "execution_count": null,
      "outputs": []
    },
    {
      "cell_type": "code",
      "source": [
        "logger.remove()  # Remove all handlers added so far, including the default one.\n",
        "logger.add(sys.stderr, level=\"TRACE\", format=\"{time:HH:mm:ss} | <level>{level: <10}</level> | {message}\")\n",
        "logger.add(proj_folder + \"/log_all.log\", level=\"TRACE\", format=\"{time:HH:mm:ss} | {level: <10} | {message}\")\n",
        "logger.add(proj_folder + \"/log_success.log\", level=\"SUCCESS\", format=\"{time:HH:mm:ss} | {level: <10} | {message}\")\n",
        "logger.add(proj_folder + \"/log_error.log\", level=\"ERROR\", format=\"{time:HH:mm:ss} | {level: <10} | {message}\")"
      ],
      "metadata": {
        "id": "UJyqyztzFg2y"
      },
      "execution_count": null,
      "outputs": []
    },
    {
      "cell_type": "code",
      "source": [
        "logger.trace(\"A trace message.\")\n",
        "logger.debug(\"A debug message.\")\n",
        "logger.info(\"An info message.\")\n",
        "logger.success(\"A success message.\")\n",
        "logger.warning(\"A warning message.\")\n",
        "logger.error(\"An error message.\")\n",
        "logger.critical(\"A critical message.\")"
      ],
      "metadata": {
        "id": "9WBd_SF6MYmy"
      },
      "execution_count": null,
      "outputs": []
    },
    {
      "cell_type": "markdown",
      "source": [
        "# Run local browser (Headless=false)\n",
        "\n",
        "Does not work in Colab"
      ],
      "metadata": {
        "id": "8iSZ1VYoCUOZ"
      }
    },
    {
      "cell_type": "code",
      "source": [
        "try:\n",
        "  async with async_playwright() as p:\n",
        "    browser = await p.chromium.launch(headless=False)\n",
        "    context = await browser.new_context(viewport={\"width\": 1920, \"height\": 1080})\n",
        "    page = await context.new_page()\n",
        "\n",
        "    # note all methods are async (use the \"await\" keyword)\n",
        "    await page.goto(\"http://scrapfly.io/\")\n",
        "\n",
        "    # to stop browser on notebook close we can add a shutdown hook:\n",
        "    #def shutdown_playwright():\n",
        "    #    await browser.close()\n",
        "    #    await pw.stop()\n",
        "    #import atexit\n",
        "    #atexit.register(shutdown_playwright())\n",
        "except:\n",
        "  logger.error('Error: Local browser (headless=false) not working.')"
      ],
      "metadata": {
        "id": "HeOEuRsqBVgm"
      },
      "execution_count": null,
      "outputs": []
    },
    {
      "cell_type": "markdown",
      "source": [
        "# Helper"
      ],
      "metadata": {
        "id": "cLU3_LVZJ1rP"
      }
    },
    {
      "cell_type": "code",
      "source": [
        "# Create screenshot and log (\"INFO\")\n",
        "async def my_screenshot(my_page, message):\n",
        "  current_date_string = datetime.now().strftime(\"%Y%m%d-%H%M%S\")\n",
        "  shotfile = current_date_string + '-' + message + \".png\"\n",
        "  shotfile = \"\".join( x for x in shotfile.replace(' ', '_') if (x.isalnum() or x in \"._-\")) # cleanup filename\n",
        "  await my_page.screenshot(path=proj_folder + \"/\" + shotfile)\n",
        "  logger.info(\"Screenshot done: \" + shotfile)"
      ],
      "metadata": {
        "id": "meMWiu-zJvEg"
      },
      "execution_count": null,
      "outputs": []
    },
    {
      "cell_type": "markdown",
      "source": [
        "# Run headless browser"
      ],
      "metadata": {
        "id": "UobKRSJZCgda"
      }
    },
    {
      "cell_type": "code",
      "source": [
        "async with async_playwright() as p:\n",
        "    browser = await p.chromium.launch()\n",
        "    context = await browser.new_context(viewport={\"width\": 1920, \"height\": 1080})\n",
        "    page = await context.new_page()\n",
        "    #launch browserstack demo\n",
        "    await page.goto(\"https://bstackdemo.com\")\n",
        "    logger.info('Title of page is: ' + await page.title())\n",
        "    #await page.screenshot(path=proj_folder + \"/screenshot.png\")\n",
        "    await my_screenshot(page, 'Screenshot Demopage')\n",
        "    await browser.close()"
      ],
      "metadata": {
        "id": "Yjc5TMw8qAid"
      },
      "execution_count": null,
      "outputs": []
    },
    {
      "cell_type": "code",
      "source": [
        "async with async_playwright() as p:\n",
        "    browser = await p.chromium.launch()\n",
        "    context = await browser.new_context(viewport={\"width\": 1920, \"height\": 1080})\n",
        "    page = await context.new_page()\n",
        "    #launch browserstack demo\n",
        "    await page.goto(\"https://bstackdemo.com\")\n",
        "    logger.info('bstackdemo.com: ' + await page.title())\n",
        "    #click on sign button\n",
        "    await page.click('#signin')\n",
        "    #select Username\n",
        "    await page.get_by_text(\"Select Username\").click()\n",
        "    await page.locator(\"#react-select-2-option-0-0\").click()\n",
        "    #select Password\n",
        "    await page.get_by_text(\"Select Password\").click()\n",
        "    await page.locator(\"#react-select-3-option-0-0\").click()\n",
        "    await my_screenshot(page, 'Screenshot Login 1')\n",
        "    #click login\n",
        "    await page.get_by_role(\"button\", name=\"Log In\").click()\n",
        "    await page.wait_for_timeout(500)\n",
        "    #verify user have logged in\n",
        "    await my_screenshot(page, 'Screenshot Login 2 Successful')\n",
        "    logger.info('bstackdemo.com: Finished.')\n",
        "    await browser.close()"
      ],
      "metadata": {
        "id": "iNKbtkylpoJD"
      },
      "execution_count": null,
      "outputs": []
    },
    {
      "cell_type": "markdown",
      "source": [
        "# Download Time Tracking data"
      ],
      "metadata": {
        "id": "cA-DGhHXSMcf"
      }
    },
    {
      "cell_type": "code",
      "source": [
        "async with async_playwright() as p:\n",
        "    browser = await p.chromium.launch()\n",
        "    context = await browser.new_context(viewport={\"width\": 1920, \"height\": 1080})\n",
        "    page = await context.new_page()\n",
        "    #launch timetracking system\n",
        "    await page.goto(time_tracking_url)\n",
        "    title = await page.title()\n",
        "    #login\n",
        "    await page.type(\"#username\", login_username)\n",
        "    await page.type(\"#password\", login_password)\n",
        "    await my_screenshot(page, 'Timetracker: Startpage - ' + title)\n",
        "    await page.get_by_role(\"button\", name=\"Login\").click()\n",
        "    await page.wait_for_timeout(500)\n",
        "    await page.wait_for_selector(\".loading__circle-layer\", state=\"visible\")\n",
        "    await page.wait_for_selector(\".loading__circle-layer\", state=\"hidden\")\n",
        "    await my_screenshot(page, 'Timetracker: Report loaded')\n",
        "    logger.info('Timetracker: Download clicked')\n",
        "    async with page.expect_download() as download_info:\n",
        "      # Perform the action that initiates download\n",
        "      await page.get_by_role(\"button\", name=\"Export\").click()\n",
        "    download = await download_info.value\n",
        "    # Wait for the download process to complete and save the downloaded file somewhere\n",
        "    await download.save_as(\"./\" + proj_folder + \"/\" + download.suggested_filename)\n",
        "    logger.info('Timetracker: Download done.')\n",
        "    logger.info('Timetracker: Finished.')\n",
        "    await browser.close()"
      ],
      "metadata": {
        "id": "B2hEGR6CvmsJ"
      },
      "execution_count": null,
      "outputs": []
    },
    {
      "cell_type": "markdown",
      "source": [
        "# Download Ticket data"
      ],
      "metadata": {
        "id": "GfHzNGFySS7c"
      }
    },
    {
      "cell_type": "code",
      "source": [
        "async with async_playwright() as p:\n",
        "    browser = await p.chromium.launch()\n",
        "    context = await browser.new_context(viewport={\"width\": 1920, \"height\": 1080})\n",
        "    page = await context.new_page()\n",
        "    #launch ticket system\n",
        "    await page.goto(tickets_url)\n",
        "    title = await page.title()\n",
        "    #login\n",
        "    await page.get_by_label(\"Username\").click()\n",
        "    await page.get_by_label(\"Username\").fill(login_username)\n",
        "    await page.get_by_label(\"Username\").press(\"Tab\")\n",
        "    await page.get_by_label(\"Password\").fill(login_password)\n",
        "    await my_screenshot(page, 'Ticketsystem: Startpage - ' + title)\n",
        "    await page.get_by_label(\"Password\").press(\"Enter\")\n",
        "    await page.wait_for_selector(\".search-button\", state=\"visible\")\n",
        "    await my_screenshot(page, 'Ticketsystem: Report loaded')\n",
        "    await page.get_by_role(\"button\", name=\"Export\").click()\n",
        "    await page.wait_for_timeout(1000)\n",
        "    await my_screenshot(page, 'Ticketsystem: Select CSV')\n",
        "    await page.get_by_role(\"menuitem\", name=\"CSV (Current fields)\").click()\n",
        "    await page.wait_for_timeout(1000)\n",
        "    logger.info('Ticketsystem: Download clicked')\n",
        "    async with page.expect_download() as download_info:\n",
        "      # Perform the action that initiates download\n",
        "      await page.get_by_role(\"button\", name=\"Export\").click()\n",
        "    download = await download_info.value\n",
        "    # Wait for the download process to complete and save the downloaded file somewhere\n",
        "    await download.save_as(\"./\" + proj_folder + \"/\" + download.suggested_filename)\n",
        "    logger.info('Ticketsystem: Download done.')\n",
        "    logger.info('Ticketsystem: Finished.')\n",
        "    await browser.close()"
      ],
      "metadata": {
        "id": "9utCYu5z2Cgm"
      },
      "execution_count": null,
      "outputs": []
    },
    {
      "cell_type": "markdown",
      "source": [],
      "metadata": {
        "id": "wC_HL1gCHuB3"
      }
    }
  ]
}