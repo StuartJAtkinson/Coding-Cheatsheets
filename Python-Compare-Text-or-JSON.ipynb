{
  "nbformat": 4,
  "nbformat_minor": 0,
  "metadata": {
    "colab": {
      "provenance": [],
      "authorship_tag": "ABX9TyM9VzRDoz2RvOJThu6ghNcA",
      "include_colab_link": true
    },
    "kernelspec": {
      "name": "python3",
      "display_name": "Python 3"
    },
    "language_info": {
      "name": "python"
    }
  },
  "cells": [
    {
      "cell_type": "markdown",
      "metadata": {
        "id": "view-in-github",
        "colab_type": "text"
      },
      "source": [
        "<a href=\"https://colab.research.google.com/github/aknip/Coding-Cheatsheets/blob/main/Python-Compare-Text-or-JSON.ipynb\" target=\"_parent\"><img src=\"https://colab.research.google.com/assets/colab-badge.svg\" alt=\"Open In Colab\"/></a>"
      ]
    },
    {
      "cell_type": "markdown",
      "source": [
        "# Compare Texts, Compare JSONS\n",
        "\n",
        "Content:\n",
        "1. Compare Texts: Levenshtein Distance\n",
        "2. Compare JSON (by text) - simple approach\n",
        "3. Flatten JSON before text comparison\n",
        "4. Compare JSON (by text) - the final approach\n",
        "5. Compare JSON (by structure)\n",
        "\n",
        "Usecase: Compare and benchmark LLM results"
      ],
      "metadata": {
        "id": "5PVvW81bJqS6"
      }
    },
    {
      "cell_type": "code",
      "execution_count": null,
      "metadata": {
        "id": "0O1ck0sc0m2v"
      },
      "outputs": [],
      "source": [
        "!pip install openai litellm numpy python-benedict icecream levenshtein --quiet"
      ]
    },
    {
      "cell_type": "code",
      "source": [
        "import json\n",
        "import os\n",
        "from getpass import getpass\n",
        "import psutil\n",
        "IN_NOTEBOOK = any([\"jupyter-notebook\" in i for i in psutil.Process().parent().cmdline()])\n",
        "if IN_NOTEBOOK:\n",
        "  CREDS = json.loads(getpass(\"Secrets (JSON string): \"))\n",
        "  os.environ['CREDS'] = json.dumps(CREDS)\n",
        "  CREDS = json.loads(os.getenv('CREDS'))"
      ],
      "metadata": {
        "id": "B62fb-6HcVE7",
        "outputId": "5b91ce35-8dba-4b5e-fe84-a57cf33bf482",
        "colab": {
          "base_uri": "https://localhost:8080/"
        }
      },
      "execution_count": 2,
      "outputs": [
        {
          "name": "stdout",
          "output_type": "stream",
          "text": [
            "Secrets (JSON string): ··········\n"
          ]
        }
      ]
    },
    {
      "cell_type": "code",
      "source": [
        "import json\n",
        "import textwrap\n",
        "from icecream import ic\n",
        "\n",
        "import openai\n",
        "from litellm import completion\n",
        "os.environ[\"OPENAI_API_KEY\"] = CREDS['OpenAI']['v1']['credential'] # my key\n",
        "os.environ[\"TOGETHERAI_API_KEY\"] = CREDS['together-ai']['key']['credential']"
      ],
      "metadata": {
        "id": "myZYsW9oZkEv"
      },
      "execution_count": 3,
      "outputs": []
    },
    {
      "cell_type": "markdown",
      "source": [
        "# 1. Compare Texts: Levenshtein Distance"
      ],
      "metadata": {
        "id": "MHhZapx6G9J9"
      }
    },
    {
      "cell_type": "markdown",
      "source": [
        "- https://towardsdatascience.com/text-similarity-w-levenshtein-distance-in-python-2f7478986e75#\n",
        "- Notebook: https://github.com/vatsal220/medium_articles/blob/main/levenshtein_distance/lev_dist.ipynb\n",
        "- Github: The Levenshtein Python C extension module contains functions for fast computation of Levenshtein distance and string similarity https://github.com/rapidfuzz/Levenshtein"
      ],
      "metadata": {
        "id": "tsDTS-NYHBiF"
      }
    },
    {
      "cell_type": "markdown",
      "source": [
        "###Two implementations, same results..."
      ],
      "metadata": {
        "id": "QiZOG0zoIRmx"
      }
    },
    {
      "cell_type": "code",
      "source": [
        "# First implementation, using numpy\n",
        "\n",
        "import numpy as np\n",
        "\n",
        "def levenshtein(seq1, seq2):\n",
        "    # source: https://github.com/vatsal220/medium_articles/blob/main/levenshtein_distance/lev_dist.ipynb\n",
        "    size_x = len(seq1) + 1\n",
        "    size_y = len(seq2) + 1\n",
        "    matrix = np.zeros ((size_x, size_y))\n",
        "    for x in range(size_x):\n",
        "        matrix [x, 0] = x\n",
        "    for y in range(size_y):\n",
        "        matrix [0, y] = y\n",
        "\n",
        "    for x in range(1, size_x):\n",
        "        for y in range(1, size_y):\n",
        "            if seq1[x-1] == seq2[y-1]:\n",
        "                matrix [x,y] = min(\n",
        "                    matrix[x-1, y] + 1,\n",
        "                    matrix[x-1, y-1],\n",
        "                    matrix[x, y-1] + 1\n",
        "                )\n",
        "            else:\n",
        "                matrix [x,y] = min(\n",
        "                    matrix[x-1,y] + 1,\n",
        "                    matrix[x-1,y-1] + 1,\n",
        "                    matrix[x,y-1] + 1\n",
        "                )\n",
        "    #ic(matrix)\n",
        "    return (matrix[size_x - 1, size_y - 1])"
      ],
      "metadata": {
        "id": "zz7ouhhdsPKl"
      },
      "execution_count": null,
      "outputs": []
    },
    {
      "cell_type": "code",
      "source": [
        "# Second implementation, using Levenshtein Python C extension module https://github.com/rapidfuzz/\n",
        "\n",
        "from Levenshtein import distance"
      ],
      "metadata": {
        "id": "K4ZkhG1xImKn"
      },
      "execution_count": null,
      "outputs": []
    },
    {
      "cell_type": "code",
      "source": [
        "# 1. test: Simple one word\n",
        "string1 = 'stamp'\n",
        "string2 = 'stomp'\n",
        "ic(\"1. test\")\n",
        "ic(levenshtein(string1, string2))\n",
        "ic(distance(string1, string2))\n",
        "\n",
        "# 2. test: Sentences, case, whitespace\n",
        "string1 = 'Hello world, a longer example. With two sentences. Punctuation and upper-/lower case count. Spaces, too!'\n",
        "string2 = 'Hello world, a longer example. With two sentences, punctuation and upper-/lower case count.    Spaces, too!'\n",
        "ic(\"2. test\")\n",
        "ic(levenshtein(string1, string2))\n",
        "ic(distance(string1, string2))"
      ],
      "metadata": {
        "colab": {
          "base_uri": "https://localhost:8080/"
        },
        "id": "m1kEKbsCsc_v",
        "outputId": "2ae97b22-93e5-4670-856f-1618227c4522"
      },
      "execution_count": null,
      "outputs": [
        {
          "output_type": "stream",
          "name": "stderr",
          "text": [
            "ic| '1. test'\n",
            "ic| levenshtein(string1, string2): 1.0\n",
            "ic| distance(string1, string2): 1\n",
            "ic| '2. test'\n",
            "ic| levenshtein(string1, string2): 5.0\n",
            "ic| distance(string1, string2): 5\n"
          ]
        },
        {
          "output_type": "execute_result",
          "data": {
            "text/plain": [
              "5"
            ]
          },
          "metadata": {},
          "execution_count": 136
        }
      ]
    },
    {
      "cell_type": "markdown",
      "source": [
        "# 2. Compare JSON (by text) - simple approach"
      ],
      "metadata": {
        "id": "mevhzSPfTFFD"
      }
    },
    {
      "cell_type": "code",
      "source": [
        "# 1. test: JSON, converted to string - and sorted for better comparison results\n",
        "string1 = json.dumps({'dict1': {'foo': 1, 'bar': 2}, 'dict2': {'baz': 'lorem ipsum', 'quux': 3}}, sort_keys = True)\n",
        "string2 = json.dumps({'dict1': {'bar': 9, 'foo': 1}, 'dict2': {'baz': 'lorem ipsum', 'quux': 3}}, sort_keys = True)\n",
        "ic(\"3. test\")\n",
        "ic(levenshtein(string1, string2))\n",
        "ic(distance(string1, string2))\n",
        "\n",
        "# 2. test: JSON, more complex, with arrays in different orders\n",
        "string1 = json.dumps({'dict1': {'foo': 1, 'bar': [1,2,3,4]}, 'dict2': {'baz': 'lorem ipsum', 'quux': [{'this': 1, 'is': 2}, {'another': 3, 'test': 2}]}}, sort_keys = True)\n",
        "string2 = json.dumps({'dict1': {'bar': [4,3,2,1], 'foo': 1}, 'dict2': {'baz': 'lorem ipsum', 'quux': [{'another': 3, 'test': 2}, {'this': 1, 'is': 2}]}}, sort_keys = True)\n",
        "ic(\"4. test\")\n",
        "ic(levenshtein(string1, string2))\n",
        "ic(distance(string1, string2))\n"
      ],
      "metadata": {
        "id": "EwgEZHEGTR0n",
        "outputId": "cc6da3a3-7b61-4579-b892-95ed7590dce1",
        "colab": {
          "base_uri": "https://localhost:8080/"
        }
      },
      "execution_count": null,
      "outputs": [
        {
          "output_type": "stream",
          "name": "stderr",
          "text": [
            "ic| '3. test'\n",
            "ic| levenshtein(string1, string2): 1.0\n",
            "ic| distance(string1, string2): 1\n",
            "ic| '4. test'\n",
            "ic| levenshtein(string1, string2): 28.0\n",
            "ic| distance(string1, string2): 28\n"
          ]
        },
        {
          "output_type": "execute_result",
          "data": {
            "text/plain": [
              "28"
            ]
          },
          "metadata": {},
          "execution_count": 137
        }
      ]
    },
    {
      "cell_type": "code",
      "source": [
        "# more details for 2. test:\n",
        "# data content is the same, but order inside of arrays is different => high Levenshtein distance\n",
        "print(\"string 1:\")\n",
        "print(json.dumps(json.loads(string1), indent=2))\n",
        "print()\n",
        "print(\"string 2:\")\n",
        "print(json.dumps(json.loads(string2), indent=2))"
      ],
      "metadata": {
        "id": "duOr__mYTXT-",
        "outputId": "04389067-210e-42b1-eb42-56a18e55759e",
        "colab": {
          "base_uri": "https://localhost:8080/"
        }
      },
      "execution_count": null,
      "outputs": [
        {
          "output_type": "stream",
          "name": "stdout",
          "text": [
            "string 1:\n",
            "{\n",
            "  \"dict1\": {\n",
            "    \"bar\": [\n",
            "      1,\n",
            "      2,\n",
            "      3,\n",
            "      4\n",
            "    ],\n",
            "    \"foo\": 1\n",
            "  },\n",
            "  \"dict2\": {\n",
            "    \"baz\": \"lorem ipsum\",\n",
            "    \"quux\": [\n",
            "      {\n",
            "        \"is\": 2,\n",
            "        \"this\": 1\n",
            "      },\n",
            "      {\n",
            "        \"another\": 3,\n",
            "        \"test\": 2\n",
            "      }\n",
            "    ]\n",
            "  }\n",
            "}\n",
            "\n",
            "string 2:\n",
            "{\n",
            "  \"dict1\": {\n",
            "    \"bar\": [\n",
            "      4,\n",
            "      3,\n",
            "      2,\n",
            "      1\n",
            "    ],\n",
            "    \"foo\": 1\n",
            "  },\n",
            "  \"dict2\": {\n",
            "    \"baz\": \"lorem ipsum\",\n",
            "    \"quux\": [\n",
            "      {\n",
            "        \"another\": 3,\n",
            "        \"test\": 2\n",
            "      },\n",
            "      {\n",
            "        \"is\": 2,\n",
            "        \"this\": 1\n",
            "      }\n",
            "    ]\n",
            "  }\n",
            "}\n"
          ]
        }
      ]
    },
    {
      "cell_type": "markdown",
      "source": [
        "# 3. Flatten JSON before text comparison\n",
        "\n",
        "As the previous test case shows, the comparison of two JSON objects works fine for simple objects (no arrays). Sorting before comparison helps to optimize the comparison results.\n",
        "\n",
        "But nested objects and arrays lead to misleading Levenshtein distance results.\n",
        "\n",
        "Idea:\n",
        "- Flatten the JSON objects before the comparison\n",
        "- Remove JSON hierarchy\n",
        "- Resolve / isolate array values\n",
        "- Truncate long strings => focus for comparison on the first n characters"
      ],
      "metadata": {
        "id": "Y4SJ8UJR0XPa"
      }
    },
    {
      "cell_type": "code",
      "source": [
        "from benedict import benedict\n",
        "\n",
        "# source: https://stackoverflow.com/a/58611501\n",
        "\n",
        "def flatten_dict (my_dict):\n",
        "  # removes hierarchy and arrays in dict, return flat string array\n",
        "  dict_benedict = benedict(my_dict)\n",
        "  global flat_item # hacky solution by using 'global'...\n",
        "  flat_item = []\n",
        "  def traverse_item(dct, key, value):\n",
        "    global flat_item\n",
        "    check = (type(value) == str or type(value) == int or type(value) == float)\n",
        "    if check:\n",
        "      flat_item.append('{}: {}'.format(key, value)) # string template for result\n",
        "  dict_benedict.traverse(traverse_item)\n",
        "  return flat_item\n",
        "\n",
        "def array_to_sorted_string (string_array='', string_truncation=9999):\n",
        "  # sorts an array of strings, trunctes strings and finally convert everything into one string\n",
        "  my_array_sorted = sorted(string_array)\n",
        "  res = ''\n",
        "  for txt in my_array_sorted:\n",
        "    res = res + txt[:string_truncation] + ', '\n",
        "  return res[:-2]"
      ],
      "metadata": {
        "id": "NA2U21GawFeK"
      },
      "execution_count": null,
      "outputs": []
    },
    {
      "cell_type": "code",
      "source": [
        "# 1. test: Flatten a simple dict\n",
        "d = {'dict1': {'foo': 1, 'bar': 2}, 'dict2': {'baz': 'hello very long text here which can be truncated by function', 'quux': 4}}\n",
        "d_flat = flatten_dict(d)\n",
        "print(json.dumps(d_flat, indent=2))\n",
        "print(array_to_sorted_string(string_array=d_flat))\n",
        "print(array_to_sorted_string(string_array=d_flat, string_truncation=20))"
      ],
      "metadata": {
        "colab": {
          "base_uri": "https://localhost:8080/"
        },
        "id": "y30vcQUd_5sl",
        "outputId": "dce0452d-affc-4a53-c54a-0dcce3a44ef3"
      },
      "execution_count": null,
      "outputs": [
        {
          "output_type": "stream",
          "name": "stdout",
          "text": [
            "[\n",
            "  \"foo: 1\",\n",
            "  \"bar: 2\",\n",
            "  \"baz: hello very long text here which can be truncated by function\",\n",
            "  \"quux: 4\"\n",
            "]\n",
            "bar: 2, baz: hello very long text here which can be truncated by function, foo: 1, quux: 4\n",
            "bar: 2, baz: hello very long, foo: 1, quux: 4\n"
          ]
        }
      ]
    },
    {
      "cell_type": "code",
      "source": [
        "# 2. test: Complex dict with arrays (same as 2. test for Levenshtein distance above)\n",
        "d = {'dict1': {'foo': 1, 'bar': [1,2,3,4]}, 'dict2': {'baz': 'lorem ipsum', 'quux': [{'this': 1, 'is': 2}, {'another': 3, 'test': 2}]}}\n",
        "d_flat = flatten_dict(d)\n",
        "print(json.dumps(d_flat, indent=2))\n",
        "print(array_to_sorted_string(string_array=d_flat))\n",
        "\n",
        "d = {'dict1': {'bar': [4,3,2,1], 'foo': 1}, 'dict2': {'baz': 'lorem ipsum', 'quux': [{'another': 3, 'test': 2}, {'this': 1, 'is': 2}]}}\n",
        "d_flat = flatten_dict(d)\n",
        "print(json.dumps(d_flat, indent=2))\n",
        "print(array_to_sorted_string(string_array=d_flat))\n"
      ],
      "metadata": {
        "id": "PcGQI_pmSZYJ",
        "outputId": "59370de7-401d-46b8-c3d5-ddc0cce100a8",
        "colab": {
          "base_uri": "https://localhost:8080/"
        }
      },
      "execution_count": null,
      "outputs": [
        {
          "output_type": "stream",
          "name": "stdout",
          "text": [
            "[\n",
            "  \"foo: 1\",\n",
            "  \"0: 1\",\n",
            "  \"1: 2\",\n",
            "  \"2: 3\",\n",
            "  \"3: 4\",\n",
            "  \"baz: lorem ipsum\",\n",
            "  \"this: 1\",\n",
            "  \"is: 2\",\n",
            "  \"another: 3\",\n",
            "  \"test: 2\"\n",
            "]\n",
            "0: 1, 1: 2, 2: 3, 3: 4, another: 3, baz: lorem ipsum, foo: 1, is: 2, test: 2, this: 1\n",
            "0: 1, 1: 2, 2: 3, 3: 4, another: 3, baz: lorem ipsum, foo: 1, is: 2, test: 2, this: 1\n",
            "[\n",
            "  \"0: 4\",\n",
            "  \"1: 3\",\n",
            "  \"2: 2\",\n",
            "  \"3: 1\",\n",
            "  \"foo: 1\",\n",
            "  \"baz: lorem ipsum\",\n",
            "  \"another: 3\",\n",
            "  \"test: 2\",\n",
            "  \"this: 1\",\n",
            "  \"is: 2\"\n",
            "]\n",
            "0: 4, 1: 3, 2: 2, 3: 1, another: 3, baz: lorem ipsum, foo: 1, is: 2, test: 2, this: 1\n",
            "0: 4, 1: 3, 2: 2, 3: 1, another: 3, baz: lorem ipsum, foo: 1, is: 2, test: 2, this: 1\n"
          ]
        }
      ]
    },
    {
      "cell_type": "markdown",
      "source": [
        "# 4. Compare JSON (by text) - the final approach"
      ],
      "metadata": {
        "id": "sek-w80eVDFs"
      }
    },
    {
      "cell_type": "code",
      "source": [
        "# Let's take the two complex JSON objects from above (nested, arrays, order shuffled - both have the same data content):\n",
        "d1 = {'dict1': {'foo': 1, 'bar': [1,2,3,4]}, 'dict2': {'baz': 'lorem ipsum', 'quux': [{'this': 1, 'is': 2}, {'another': 3, 'test': 2}]}}\n",
        "print(json.dumps(d1, indent=2))\n",
        "d2 = {'dict1': {'bar': [4,3,2,1], 'foo': 1}, 'dict2': {'baz': 'lorem ipsum', 'quux': [{'another': 3, 'test': 2}, {'this': 1, 'is': 2}]}}\n",
        "print()\n",
        "print(json.dumps(d2, indent=2))"
      ],
      "metadata": {
        "id": "_Gvozj19VToR",
        "outputId": "47a7f222-c2cb-4f03-bead-454ea656f716",
        "colab": {
          "base_uri": "https://localhost:8080/"
        }
      },
      "execution_count": null,
      "outputs": [
        {
          "output_type": "stream",
          "name": "stdout",
          "text": [
            "{\n",
            "  \"dict1\": {\n",
            "    \"foo\": 1,\n",
            "    \"bar\": [\n",
            "      1,\n",
            "      2,\n",
            "      3,\n",
            "      4\n",
            "    ]\n",
            "  },\n",
            "  \"dict2\": {\n",
            "    \"baz\": \"lorem ipsum\",\n",
            "    \"quux\": [\n",
            "      {\n",
            "        \"this\": 1,\n",
            "        \"is\": 2\n",
            "      },\n",
            "      {\n",
            "        \"another\": 3,\n",
            "        \"test\": 2\n",
            "      }\n",
            "    ]\n",
            "  }\n",
            "}\n",
            "\n",
            "{\n",
            "  \"dict1\": {\n",
            "    \"bar\": [\n",
            "      4,\n",
            "      3,\n",
            "      2,\n",
            "      1\n",
            "    ],\n",
            "    \"foo\": 1\n",
            "  },\n",
            "  \"dict2\": {\n",
            "    \"baz\": \"lorem ipsum\",\n",
            "    \"quux\": [\n",
            "      {\n",
            "        \"another\": 3,\n",
            "        \"test\": 2\n",
            "      },\n",
            "      {\n",
            "        \"this\": 1,\n",
            "        \"is\": 2\n",
            "      }\n",
            "    ]\n",
            "  }\n",
            "}\n"
          ]
        }
      ]
    },
    {
      "cell_type": "code",
      "source": [
        "# ... and compare them:\n",
        "d1_text = array_to_sorted_string(string_array=flatten_dict(d1))\n",
        "print(d1_text)\n",
        "d2_text = array_to_sorted_string(string_array=flatten_dict(d2))\n",
        "print(d2_text)\n",
        "print(\"Levenshtein distance:\")\n",
        "print(levenshtein(d1_text, d2_text))\n",
        "print(distance(d1_text, d2_text))"
      ],
      "metadata": {
        "id": "-BHt5Tk8Vvcd",
        "outputId": "ddc3437a-9484-4619-ab93-d06da9562dbb",
        "colab": {
          "base_uri": "https://localhost:8080/"
        }
      },
      "execution_count": null,
      "outputs": [
        {
          "output_type": "stream",
          "name": "stdout",
          "text": [
            "0: 1, 1: 2, 2: 3, 3: 4, another: 3, baz: lorem ipsum, foo: 1, is: 2, test: 2, this: 1\n",
            "0: 4, 1: 3, 2: 2, 3: 1, another: 3, baz: lorem ipsum, foo: 1, is: 2, test: 2, this: 1\n",
            "Levenshtein distance:\n",
            "4.0\n",
            "4\n"
          ]
        }
      ]
    },
    {
      "cell_type": "markdown",
      "source": [
        "# 5. Compare JSON (by structure)"
      ],
      "metadata": {
        "id": "DxlV5rtm-DcS"
      }
    },
    {
      "cell_type": "code",
      "source": [
        "from benedict import benedict\n",
        "\n",
        "def get_keys(my_dict):\n",
        "  # removes hierarchy and arrays in dict, returns array of all keys\n",
        "  # source: https://stackoverflow.com/a/71857572\n",
        "  keys = []\n",
        "  if isinstance(my_dict, list):\n",
        "      for item in my_dict:\n",
        "          keys.extend(get_keys(item))\n",
        "  elif isinstance(my_dict, dict):\n",
        "      for key in my_dict:\n",
        "          keys.append(key)\n",
        "          keys.extend(get_keys(my_dict[key]))\n",
        "  return keys\n",
        "\n",
        "def get_entries (my_dict):\n",
        "  # removes hierarchy and arrays in dict, returns array of all values (dict) or single entries (list/array)\n",
        "  # source: https://stackoverflow.com/a/58611501\n",
        "  dict_benedict = benedict(my_dict)\n",
        "  global flat_item # hacky solution by using 'global'...\n",
        "  flat_item = []\n",
        "  def traverse_item(dct, key, value):\n",
        "    global flat_item\n",
        "    check = (type(value) == str or type(value) == int or type(value) == float)\n",
        "    if check:\n",
        "      flat_item.append('{}'.format(value)) # string template for result\n",
        "      #flat_item.append('{}: {}'.format(key, value)) # string template for result\n",
        "  dict_benedict.traverse(traverse_item)\n",
        "  return flat_item"
      ],
      "metadata": {
        "id": "CXkGJu4W-FcP"
      },
      "execution_count": null,
      "outputs": []
    },
    {
      "cell_type": "code",
      "source": [
        "# Let's take the two complex JSON objects from above (nested, arrays, order shuffled - both have the same data content):\n",
        "d1 = {'dict1': {'foo': 1, 'bar': [1,2,3,4]}, 'dict2': {'baz': 'lorem ipsum', 'quux': [{'this': 1, 'is': 2}, {'another': 3, 'test': 2}]}}\n",
        "print(json.dumps(d1, indent=2))\n",
        "d2 = {'dict1': {'bar': [5,4,3,2,1], 'foo': 1}, 'dict2': {'baz': 'lorem ipsum', 'quux': [{'another': 3, 'test': 2}, {'this': 1, 'is': 2}]}, 'dict3': 'added'}\n",
        "print()\n",
        "print(json.dumps(d2, indent=2))"
      ],
      "metadata": {
        "id": "rCnUmPvG-cIy"
      },
      "execution_count": null,
      "outputs": []
    },
    {
      "cell_type": "code",
      "source": [
        "d1_entries = get_entries(d1)\n",
        "d1_keys = get_keys(d1)\n",
        "print(d1_entries)\n",
        "print(d1_keys)\n",
        "print(len(d1_entries))\n",
        "print(len(d1_keys))"
      ],
      "metadata": {
        "colab": {
          "base_uri": "https://localhost:8080/"
        },
        "id": "Pn8kwFtr-lCM",
        "outputId": "97f078df-ccc2-4c50-ec87-bdd775845fa0"
      },
      "execution_count": null,
      "outputs": [
        {
          "output_type": "stream",
          "name": "stdout",
          "text": [
            "['1', '1', '2', '3', '4', 'lorem ipsum', '1', '2', '3', '2']\n",
            "['dict1', 'foo', 'bar', 'dict2', 'baz', 'quux', 'this', 'is', 'another', 'test']\n",
            "10\n",
            "10\n"
          ]
        }
      ]
    },
    {
      "cell_type": "markdown",
      "source": [
        "# Summarized"
      ],
      "metadata": {
        "id": "pfi08UaBOlFK"
      }
    },
    {
      "cell_type": "code",
      "source": [
        "import numpy as np\n",
        "from benedict import benedict\n",
        "\n",
        "def levenshtein(seq1, seq2):\n",
        "    # source: https://github.com/vatsal220/medium_articles/blob/main/levenshtein_distance/lev_dist.ipynb\n",
        "    size_x = len(seq1) + 1\n",
        "    size_y = len(seq2) + 1\n",
        "    matrix = np.zeros ((size_x, size_y))\n",
        "    for x in range(size_x):\n",
        "        matrix [x, 0] = x\n",
        "    for y in range(size_y):\n",
        "        matrix [0, y] = y\n",
        "\n",
        "    for x in range(1, size_x):\n",
        "        for y in range(1, size_y):\n",
        "            if seq1[x-1] == seq2[y-1]:\n",
        "                matrix [x,y] = min(\n",
        "                    matrix[x-1, y] + 1,\n",
        "                    matrix[x-1, y-1],\n",
        "                    matrix[x, y-1] + 1\n",
        "                )\n",
        "            else:\n",
        "                matrix [x,y] = min(\n",
        "                    matrix[x-1,y] + 1,\n",
        "                    matrix[x-1,y-1] + 1,\n",
        "                    matrix[x,y-1] + 1\n",
        "                )\n",
        "    #ic(matrix)\n",
        "    return (matrix[size_x - 1, size_y - 1])\n",
        "\n",
        "def flatten_dict (my_dict):\n",
        "  # removes hierarchy and arrays in dict, return flat string array\n",
        "  dict_benedict = benedict(my_dict)\n",
        "  global flat_item # hacky solution by using 'global'...\n",
        "  flat_item = []\n",
        "  def traverse_item(dct, key, value):\n",
        "    global flat_item\n",
        "    check = (type(value) == str or type(value) == int or type(value) == float)\n",
        "    if check:\n",
        "      flat_item.append('{}: {}'.format(key, value)) # string template for result\n",
        "  dict_benedict.traverse(traverse_item)\n",
        "  return flat_item\n",
        "\n",
        "def array_to_sorted_string (string_array='', string_truncation=9999):\n",
        "  # sorts an array of strings, trunctes strings and finally convert everything into one string\n",
        "  my_array_sorted = sorted(string_array)\n",
        "  res = ''\n",
        "  for txt in my_array_sorted:\n",
        "    res = res + txt[:string_truncation] + ', '\n",
        "  return res[:-2]\n",
        "\n",
        "def get_keys(my_dict):\n",
        "  # removes hierarchy and arrays in dict, returns array of all keys\n",
        "  # source: https://stackoverflow.com/a/71857572\n",
        "  keys = []\n",
        "  if isinstance(my_dict, list):\n",
        "      for item in my_dict:\n",
        "          keys.extend(get_keys(item))\n",
        "  elif isinstance(my_dict, dict):\n",
        "      for key in my_dict:\n",
        "          keys.append(key)\n",
        "          keys.extend(get_keys(my_dict[key]))\n",
        "  return keys\n",
        "\n",
        "def get_entries (my_dict):\n",
        "  # removes hierarchy and arrays in dict, returns array of all values (dict) or single entries (list/array)\n",
        "  # source: https://stackoverflow.com/a/58611501\n",
        "  dict_benedict = benedict(my_dict)\n",
        "  global flat_item # hacky solution by using 'global'...\n",
        "  flat_item = []\n",
        "  def traverse_item(dct, key, value):\n",
        "    global flat_item\n",
        "    check = (type(value) == str or type(value) == int or type(value) == float)\n",
        "    if check:\n",
        "      flat_item.append('{}'.format(value)) # string template for result\n",
        "      #flat_item.append('{}: {}'.format(key, value)) # string template for result\n",
        "  dict_benedict.traverse(traverse_item)\n",
        "  return flat_item"
      ],
      "metadata": {
        "id": "bpAUjGGJOnY-"
      },
      "execution_count": 6,
      "outputs": []
    },
    {
      "cell_type": "code",
      "source": [
        "target_JSON = {\n",
        "    \"Versicherungssumme\": \"5500000\",\n",
        "    \"Versicherungsnehmer_Name\": \"Zorrsen Beteiligungsgesellschaft mbH\",\n",
        "    \"Versicherungsnehmer_Anschrift\": \"Juliusweg 9, 28374 Zutzenhausen\",\n",
        "    \"Versicherungsnehmer_Branche\": \"Produktion von Aluminium-Großfarmaturen\",\n",
        "    \"Versicherungsnehmer_Umsatz\": \"78500000\",\n",
        "    \"Vorschäden_benannt\": \"Ja, es gibt einen laufenden D&O-Schadensfall\"\n",
        "}\n",
        "\n",
        "result_JSONs = [\n",
        "  {\n",
        "    \"Versicherungssumme\": 5500000,\n",
        "    \"Versicherungsnehmer_Name\": \"Zorrsen Beteiligungsgesellschaft mbH\",\n",
        "    \"Versicherungsnehmer_Anschrift\": \"Juliusweg 9, 28374 Zutzenhausen\",\n",
        "    \"Versicherungsnehmer_Branche\": \"Produktion von Aluminium-Großfarmaturen\",\n",
        "    \"Versicherungsnehmer_Umsatz\": 78500000,\n",
        "    \"Vorschäden_benannt\": \"Ja, es gibt einen laufenden D&O-Schadensfall\"\n",
        "  },\n",
        "  {\n",
        "    \"Versicherungssumme\": \"5500000\"\n",
        "  },\n",
        "  {\n",
        "    \"Versicherungssumme\": \"5500000\",\n",
        "    \"Versicherungsnehmer_Name\": \"Zorrsen Beteiligungsgesellschaft mbH\",\n",
        "    \"Versicherungsnehmer_Anschrift\": \"Juliusweg 9, 28374 Zutzenhausen\",\n",
        "    \"Versicherungsnehmer_Branche\": \"Produktion von Aluminium-Großarmaturen\",\n",
        "    \"Versicherungsnehmer_Umsatz\": \"78500000\",\n",
        "    \"Vorschäden_benannt\": \"Ja, es gibt einen laufenden D&O-Schadensfall aufgrund einer Inanspruchnahme eines ehemaligen Geschäftsführers aus dem Jahr 2017.\"\n",
        "  },\n",
        "  {\n",
        "    \"Versicherungssumme\": 5500000,\n",
        "    \"Versicherungsnehmer_Name\": \"Zorrsen Beteiligungsgesellschaft mbH\",\n",
        "    \"Versicherungsnehmer_Anschrift\": \"Juliusweg 9, 28374 Zutzenhausen\",\n",
        "    \"Versicherungsnehmer_Branche\": \"Produktion von Aluminium-Großarmaturen\",\n",
        "    \"Versicherungsnehmer_Umsatz\": 78500000,\n",
        "    \"Vorschäden_benannt\": \"Ja, D&O-Schadensfall im Jahr 2017\"\n",
        "  },\n",
        "  {\n",
        "    \"Versicherungssumme\": 5500000,\n",
        "    \"Versicherungsnehmer_Name\": \"Zorrsen Beteiligungsgesellschaft mbH\",\n",
        "    \"Versicherungsnehmer_Anschrift\": \"Juliusweg 9, 28374 Zutzenhausen\",\n",
        "    \"Versicherungsnehmer_Branche\": \"Produktion von Aluminium-Großarmaturen\",\n",
        "    \"Versicherungsnehmer_Umsatz\": 78500000,\n",
        "    \"Vorschäden_benannt\": \"Ja, laufender D&O-Schadensfall aufgrund einer Inanspruchnahme eines ehemaligen Geschäftsführers.\"\n",
        "  }\n",
        "]\n",
        "\n",
        "trunc = 50 # max len of key+value as string representation\n",
        "target_JSON_text = array_to_sorted_string(string_array=flatten_dict(target_JSON), string_truncation=trunc)\n",
        "target_entries_absolute = len(get_entries(target_JSON))\n",
        "target_keys_absolute = len(get_keys(target_JSON))\n",
        "\n",
        "for test_JSON in result_JSONs:\n",
        "  test_JSON_text = array_to_sorted_string(string_array=flatten_dict(test_JSON), string_truncation=trunc)\n",
        "  test_lev_absolute = int(levenshtein(target_JSON_text, test_JSON_text))\n",
        "  # relative Levenshtein distance: 100% = no distance / 0% = full distance, no similarity\n",
        "  test_lev_relative = 100-int((test_lev_absolute/len(target_JSON_text))*100) # *1000/10\n",
        "  test_entries_absolute = len(get_entries(test_JSON))\n",
        "  test_entries_relative = int((test_entries_absolute/target_entries_absolute)*100)\n",
        "  test_keys_absolute = len(get_keys(test_JSON))\n",
        "  test_keys_relative = int((test_keys_absolute/target_keys_absolute)*100)\n",
        "  #print(f'Lev dist abs: {test_lev_absolute}')\n",
        "  print(f'Lev dist rel: {test_lev_relative}%')\n",
        "  #print(f'Entries rel: {test_entries_relative}%')\n",
        "  print(f'Keys rel: {test_keys_relative}%')\n",
        "  prompt=f\"\"\"You are a data analyst and help to benchmark results of a webserive. The ideal result is called 'Target-JSON', the actual result is called 'Test-JSON':\n",
        "  Target-JSON: {target_JSON_text}\n",
        "  Test-JSON: {test_JSON_text}\n",
        "  Please rate the Test-JSON in a range of 0-100% if it fits to the Target-JSON.\n",
        "  Answer in the following format: 'AI-Rating: 100%. Differences: Field name is missing, field street has a different value.'\n",
        "  \"\"\"\n",
        "  response = completion(\n",
        "    #model=\"gpt-3.5-turbo\",\n",
        "    model=\"gpt-4\",\n",
        "    messages=[{ \"content\": prompt,\"role\": \"user\"}],\n",
        "    temperature=0,\n",
        "    max_tokens=50\n",
        "  )\n",
        "  #print(prompt)\n",
        "  print(response.choices[0].message.content)\n",
        "  print()\n"
      ],
      "metadata": {
        "colab": {
          "base_uri": "https://localhost:8080/"
        },
        "id": "8amTFmdXReo1",
        "outputId": "5fc9d7ab-2ff7-4291-8d17-b9965cf41743"
      },
      "execution_count": 14,
      "outputs": [
        {
          "output_type": "stream",
          "name": "stdout",
          "text": [
            "Lev dist rel: 100%\n",
            "Keys rel: 100%\n",
            "AI-Rating: 100%. Differences: None.\n",
            "\n",
            "Lev dist rel: 10%\n",
            "Keys rel: 16%\n",
            "AI-Rating: 14%. Differences: Fields Versicherungsnehmer_Anschrift, Versicherungsnehmer_Branche, Versicherungsnehmer_Name, Versicherungsnehmer_Umsatz, and Vorschäden_benannt are missing\n",
            "\n",
            "Lev dist rel: 100%\n",
            "Keys rel: 100%\n",
            "AI-Rating: 100%. Differences: None.\n",
            "\n",
            "Lev dist rel: 92%\n",
            "Keys rel: 100%\n",
            "AI-Rating: 95%. Differences: Vorschäden_benannt field has additional information in Test-JSON.\n",
            "\n",
            "Lev dist rel: 92%\n",
            "Keys rel: 100%\n",
            "AI-Rating: 98%. Differences: Field Vorschäden_benannt has a slightly different value.\n",
            "\n"
          ]
        }
      ]
    },
    {
      "cell_type": "code",
      "source": [
        "\n",
        "prompt=f\"\"\"Compare these two datasets:\n",
        "Answer #1: {gen_answers[0]}\n",
        "Answer #2: {gen_answers[1]}\n",
        "\n",
        "Given the question about the user review, state whether Answer #1 or Answer #2 provides \\\n",
        "the more accurate answer.\"\"\"\n",
        "\n",
        "response = completion(\n",
        "  model=\"gpt-3.5-turbo\",\n",
        "  messages=[{ \"content\": \"Hello, how are you?\",\"role\": \"user\"}]\n",
        ")\n",
        "print(response.choices[0].message.content)\n",
        "print(response)"
      ],
      "metadata": {
        "id": "Mktgc_GodLbV"
      },
      "execution_count": null,
      "outputs": []
    },
    {
      "cell_type": "code",
      "source": [
        "# Run evaluation\n",
        "for gen_answer in gen_answers:\n",
        "    prompt=f\"\"\"User review: The CO-1T is a great pair of headphones! The sound quality is the \\\n",
        "    best out there, and I can hear every detail of my music.\n",
        "    Question: Why is the CO-1T a great headphone?\n",
        "    Answer #1: {gen_answers[0]}\n",
        "    Answer #2: {gen_answers[1]}\n",
        "\n",
        "    Given the question about the user review, state whether Answer #1 or Answer #2 provides \\\n",
        "    the more accurate answer.\"\"\"\n",
        "\n",
        "    response = co.generate(prompt=prompt,max_tokens=50, temperature=0).generations[0].text\n",
        "    print(response)"
      ],
      "metadata": {
        "id": "_X9AQ9rCdVI3"
      },
      "execution_count": null,
      "outputs": []
    },
    {
      "cell_type": "code",
      "source": [
        "string1 = 'Hello world, a longer example. With two sentences. Punctuation and upper-/lower case count. Spaces, too!'\n",
        "string2 = 'Hello world, a longer example. With two sentences, punctuation and upper-/lower case count.    Spaces, too!'\n",
        "print(\"Text Levenshtein distance:\")\n",
        "print(levenshtein(string1, string2))\n",
        "\n",
        "\n",
        "d1 = {'dict1': {'foo': 1, 'bar': [1,2,3,4]}, 'dict2': {'baz': 'lorem ipsum', 'quux': [{'this': 1, 'is': 2}, {'another': 3, 'test': 2}]}}\n",
        "d2 = {'dict1': {'bar': [5,4,3,2,1], 'foo': 1}, 'dict2': {'baz': 'lorem ipsum', 'quux': [{'another': 3, 'test': 2}, {'this': 1, 'is': 2}]}, 'dict3': 'added'}\n",
        "d1_text = array_to_sorted_string(string_array=flatten_dict(d1))\n",
        "d2_text = array_to_sorted_string(string_array=flatten_dict(d2))\n",
        "print(\"JSON Levenshtein distance:\")\n",
        "print(levenshtein(d1_text, d2_text),len(d1_text))"
      ],
      "metadata": {
        "colab": {
          "base_uri": "https://localhost:8080/"
        },
        "id": "-cxfg3WzOpSp",
        "outputId": "d08840e3-9220-433d-98a8-de16c2390f7f"
      },
      "execution_count": null,
      "outputs": [
        {
          "output_type": "stream",
          "name": "stdout",
          "text": [
            "Text Levenshtein distance:\n",
            "5.0\n",
            "JSON Levenshtein distance:\n",
            "22.0 85\n"
          ]
        }
      ]
    },
    {
      "cell_type": "code",
      "source": [
        "myJSON = {\"Versicherungssumme\": 5500000, \"Versicherungsnehmer_Name\": \"Zorrsen Beteiligungsgesellschaft mbH\", \"Versicherungsnehmer_Anschrift\": \"Juliusweg 9, 28374 Zutzenhausen\", \"Versicherungsnehmer_Branche\": \"Produktion von Aluminium-Gro\\u00dfarmaturen\", \"Versicherungsnehmer_Umsatz\": 78500000, \"Vorsch\\u00e4den_benannt\": \"Ja, laufender D&O-Schadensfall aufgrund einer Inanspruchnahme eines ehemaligen Gesch\\u00e4ftsf\\u00fchrers\"}\n",
        "print(json.dumps(myJSON, indent=2))"
      ],
      "metadata": {
        "colab": {
          "base_uri": "https://localhost:8080/"
        },
        "id": "mlqlaFNIRlR7",
        "outputId": "c06450de-d74f-4155-80f1-8338d9f22f75"
      },
      "execution_count": null,
      "outputs": [
        {
          "output_type": "stream",
          "name": "stdout",
          "text": [
            "{\n",
            "  \"Versicherungssumme\": 5500000,\n",
            "  \"Versicherungsnehmer_Name\": \"Zorrsen Beteiligungsgesellschaft mbH\",\n",
            "  \"Versicherungsnehmer_Anschrift\": \"Juliusweg 9, 28374 Zutzenhausen\",\n",
            "  \"Versicherungsnehmer_Branche\": \"Produktion von Aluminium-Gro\\u00dfarmaturen\",\n",
            "  \"Versicherungsnehmer_Umsatz\": 78500000,\n",
            "  \"Vorsch\\u00e4den_benannt\": \"Ja, laufender D&O-Schadensfall aufgrund einer Inanspruchnahme eines ehemaligen Gesch\\u00e4ftsf\\u00fchrers\"\n",
            "}\n"
          ]
        }
      ]
    },
    {
      "cell_type": "markdown",
      "source": [
        "# BACKUP"
      ],
      "metadata": {
        "id": "hsieEVBzU6iv"
      }
    },
    {
      "cell_type": "code",
      "source": [
        "d_flat = flatten_dict(json_result)\n",
        "print(json.dumps(d_flat, indent=2))\n",
        "print(array_to_sorted_string(string_array=d_flat))\n",
        "print(array_to_sorted_string(string_array=d_flat, string_truncation=50))"
      ],
      "metadata": {
        "colab": {
          "base_uri": "https://localhost:8080/"
        },
        "id": "og7FOktJ_79a",
        "outputId": "b5efd46c-ecac-4b44-eb3f-0cefcfc83378"
      },
      "execution_count": null,
      "outputs": [
        {
          "output_type": "stream",
          "name": "stdout",
          "text": [
            "[\n",
            "  \"Versicherungsnehmer_Name: Zorrsen Beteiligungsgesellschaft\",\n",
            "  \"testB: 34\",\n",
            "  \"key3: value3\",\n",
            "  \"key1: value1\",\n",
            "  \"key2: value2\",\n",
            "  \"key4: value4\",\n",
            "  \"key3: value3\",\n",
            "  \"Versicherungssumme: 5500000\"\n",
            "]\n",
            "Versicherungsnehmer_Name: Zorrsen Beteiligungsgesellschaft, Versicherungssumme: 5500000, key1: value1, key2: value2, key3: value3, key3: value3, key4: value4, testB: 34\n",
            "Versicherungsnehmer_Name: Zorrsen Beteiligungsgese, Versicherungssumme: 5500000, key1: value1, key2: value2, key3: value3, key3: value3, key4: value4, testB: 34\n"
          ]
        }
      ]
    },
    {
      "cell_type": "code",
      "source": [
        "json_target = {\"Versicherungssumme\": \"5000000\", \"Versicherungsnehmer_Name\": \"Zorrsen Beteiligungsgesellschaft mbH\", \"test\": {\"testA\": [{\"key1\": \"value1\", \"key2\": \"value2\"}, {\"key3\": \"value3\", \"key4\": \"value4\"}], \"testB\": 34}}\n",
        "json_result = {\"Versicherungsnehmer_Name\": \"Zorrsen Beteiligungsgesellschaft\", \"test\": {'testB': 34, \"testA\": [{\"key3\": \"value3\", \"key1\": \"value1\", \"key2\": \"value2\"}, {\"key4\": \"value4\", \"key3\": \"value3\"}]}, \"Versicherungssumme\": \"5500000\"}\n",
        "\n",
        "json_target_str = json.dumps(json_target, sort_keys = True)\n",
        "json_result_str = json.dumps(json_result, sort_keys = True)\n",
        "\n",
        "ic(levenshtein(json_target_str,json_result_str))\n",
        "ic(distance(json_target_str,json_result_str))"
      ],
      "metadata": {
        "colab": {
          "base_uri": "https://localhost:8080/"
        },
        "id": "fgxqAd8pszG1",
        "outputId": "d56f872d-395b-4421-a231-b68db627a8fa"
      },
      "execution_count": null,
      "outputs": [
        {
          "output_type": "stream",
          "name": "stderr",
          "text": [
            "ic| levenshtein(json_target_str,json_result_str): 23.0\n",
            "ic| distance(json_target_str,json_result_str): 23\n"
          ]
        },
        {
          "output_type": "execute_result",
          "data": {
            "text/plain": [
              "23"
            ]
          },
          "metadata": {},
          "execution_count": 113
        }
      ]
    }
  ]
}