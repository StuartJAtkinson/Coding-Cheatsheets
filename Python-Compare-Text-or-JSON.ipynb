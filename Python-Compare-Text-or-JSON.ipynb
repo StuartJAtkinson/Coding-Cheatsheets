{
  "nbformat": 4,
  "nbformat_minor": 0,
  "metadata": {
    "colab": {
      "provenance": [],
      "authorship_tag": "ABX9TyNSJygmthIsmdFbCD3++der",
      "include_colab_link": true
    },
    "kernelspec": {
      "name": "python3",
      "display_name": "Python 3"
    },
    "language_info": {
      "name": "python"
    }
  },
  "cells": [
    {
      "cell_type": "markdown",
      "metadata": {
        "id": "view-in-github",
        "colab_type": "text"
      },
      "source": [
        "<a href=\"https://colab.research.google.com/github/aknip/Coding-Cheatsheets/blob/main/Python-Compare-Text-or-JSON.ipynb\" target=\"_parent\"><img src=\"https://colab.research.google.com/assets/colab-badge.svg\" alt=\"Open In Colab\"/></a>"
      ]
    },
    {
      "cell_type": "markdown",
      "source": [
        "# Compare Texts, Compare JSONS\n",
        "\n",
        "Usecase: Compare and benchmark LLM results"
      ],
      "metadata": {
        "id": "5PVvW81bJqS6"
      }
    },
    {
      "cell_type": "code",
      "execution_count": 108,
      "metadata": {
        "id": "0O1ck0sc0m2v",
        "colab": {
          "base_uri": "https://localhost:8080/"
        },
        "outputId": "ce99ff3e-0c57-488f-b0a9-20188ba383ad"
      },
      "outputs": [
        {
          "output_type": "stream",
          "name": "stdout",
          "text": [
            "\u001b[2K     \u001b[90m━━━━━━━━━━━━━━━━━━━━━━━━━━━━━━━━━━━━━━━━\u001b[0m \u001b[32m169.4/169.4 kB\u001b[0m \u001b[31m1.8 MB/s\u001b[0m eta \u001b[36m0:00:00\u001b[0m\n",
            "\u001b[2K     \u001b[90m━━━━━━━━━━━━━━━━━━━━━━━━━━━━━━━━━━━━━━━━\u001b[0m \u001b[32m3.4/3.4 MB\u001b[0m \u001b[31m21.2 MB/s\u001b[0m eta \u001b[36m0:00:00\u001b[0m\n",
            "\u001b[?25h"
          ]
        }
      ],
      "source": [
        "!pip install numpy python-benedict icecream levenshtein --quiet"
      ]
    },
    {
      "cell_type": "code",
      "source": [
        "import json\n",
        "import textwrap\n",
        "from icecream import ic"
      ],
      "metadata": {
        "id": "myZYsW9oZkEv"
      },
      "execution_count": 29,
      "outputs": []
    },
    {
      "cell_type": "markdown",
      "source": [
        "# Compare Texts"
      ],
      "metadata": {
        "id": "MHhZapx6G9J9"
      }
    },
    {
      "cell_type": "markdown",
      "source": [
        "## 1. Levenshtein Distance\n",
        "\n",
        "- https://towardsdatascience.com/text-similarity-w-levenshtein-distance-in-python-2f7478986e75#\n",
        "- Notebook: https://github.com/vatsal220/medium_articles/blob/main/levenshtein_distance/lev_dist.ipynb\n",
        "- Github: The Levenshtein Python C extension module contains functions for fast computation of Levenshtein distance and string similarity https://github.com/rapidfuzz/Levenshtein"
      ],
      "metadata": {
        "id": "tsDTS-NYHBiF"
      }
    },
    {
      "cell_type": "markdown",
      "source": [
        "###Two implementations, same results..."
      ],
      "metadata": {
        "id": "QiZOG0zoIRmx"
      }
    },
    {
      "cell_type": "code",
      "source": [
        "# First implementation, using numpy\n",
        "\n",
        "import numpy as np\n",
        "\n",
        "def levenshtein(seq1, seq2):\n",
        "    # source: https://github.com/vatsal220/medium_articles/blob/main/levenshtein_distance/lev_dist.ipynb\n",
        "    size_x = len(seq1) + 1\n",
        "    size_y = len(seq2) + 1\n",
        "    matrix = np.zeros ((size_x, size_y))\n",
        "    for x in range(size_x):\n",
        "        matrix [x, 0] = x\n",
        "    for y in range(size_y):\n",
        "        matrix [0, y] = y\n",
        "\n",
        "    for x in range(1, size_x):\n",
        "        for y in range(1, size_y):\n",
        "            if seq1[x-1] == seq2[y-1]:\n",
        "                matrix [x,y] = min(\n",
        "                    matrix[x-1, y] + 1,\n",
        "                    matrix[x-1, y-1],\n",
        "                    matrix[x, y-1] + 1\n",
        "                )\n",
        "            else:\n",
        "                matrix [x,y] = min(\n",
        "                    matrix[x-1,y] + 1,\n",
        "                    matrix[x-1,y-1] + 1,\n",
        "                    matrix[x,y-1] + 1\n",
        "                )\n",
        "    #ic(matrix)\n",
        "    return (matrix[size_x - 1, size_y - 1])"
      ],
      "metadata": {
        "id": "zz7ouhhdsPKl"
      },
      "execution_count": 33,
      "outputs": []
    },
    {
      "cell_type": "code",
      "source": [
        "# Second implementation, using Levenshtein Python C extension module https://github.com/rapidfuzz/\n",
        "\n",
        "from Levenshtein import distance"
      ],
      "metadata": {
        "id": "K4ZkhG1xImKn"
      },
      "execution_count": null,
      "outputs": []
    },
    {
      "cell_type": "code",
      "source": [
        "# 1. test: Simple one word\n",
        "string1 = 'stamp'\n",
        "string2 = 'stomp'\n",
        "ic(levenshtein(string1, string2))\n",
        "ic(distance(string1, string2))\n",
        "\n",
        "# 2. test: Sentences, case, whitespace\n",
        "string1 = 'Hello world, a longer example. With two sentences. Punctuation and upper-/lower case count. Spaces, too!'\n",
        "string2 = 'Hello world, a longer example. With two sentences, punctuation and upper-/lower case count.    Spaces, too!'\n",
        "ic(levenshtein(string1, string2))\n",
        "ic(distance(string1, string2))\n",
        "\n",
        "# 3. test: JSON, converted to string - and sorted for better comparison results\n",
        "string1 = json.dumps({'dict1': {'foo': 1, 'bar': 2}, 'dict2': {'baz': 'lorem ipsum', 'quux': 3}}, sort_keys = True)\n",
        "string2 = json.dumps({'dict1': {'bar': 9, 'foo': 1}, 'dict2': {'baz': 'lorem ipsum', 'quux': 3}}, sort_keys = True)\n",
        "ic(levenshtein(string1, string2))\n",
        "ic(distance(string1, string2))\n",
        "\n"
      ],
      "metadata": {
        "colab": {
          "base_uri": "https://localhost:8080/"
        },
        "id": "m1kEKbsCsc_v",
        "outputId": "795d7621-311a-49cd-cda1-f71a3ade440f"
      },
      "execution_count": 127,
      "outputs": [
        {
          "output_type": "stream",
          "name": "stderr",
          "text": [
            "ic| levenshtein(string1, string2): 1.0\n",
            "ic| distance(string1, string2): 1\n",
            "ic| levenshtein(string1, string2): 5.0\n",
            "ic| distance(string1, string2): 5\n",
            "ic| levenshtein(string1, string2): 1.0\n",
            "ic| distance(string1, string2): 1\n"
          ]
        },
        {
          "output_type": "execute_result",
          "data": {
            "text/plain": [
              "1"
            ]
          },
          "metadata": {},
          "execution_count": 127
        }
      ]
    },
    {
      "cell_type": "code",
      "source": [
        "json_target = {\"Versicherungssumme\": \"5000000\", \"Versicherungsnehmer_Name\": \"Zorrsen Beteiligungsgesellschaft mbH\", \"test\": {\"testA\": [{\"key1\": \"value1\", \"key2\": \"value2\"}, {\"key3\": \"value3\", \"key4\": \"value4\"}], \"testB\": 34}}\n",
        "json_result = {\"Versicherungsnehmer_Name\": \"Zorrsen Beteiligungsgesellschaft\", \"test\": {'testB': 34, \"testA\": [{\"key3\": \"value3\", \"key1\": \"value1\", \"key2\": \"value2\"}, {\"key4\": \"value4\", \"key3\": \"value3\"}]}, \"Versicherungssumme\": \"5500000\"}\n",
        "\n",
        "json_target_str = json.dumps(json_target, sort_keys = True)\n",
        "json_result_str = json.dumps(json_result, sort_keys = True)\n",
        "\n",
        "ic(levenshtein(json_target_str,json_result_str))\n",
        "ic(distance(json_target_str,json_result_str))"
      ],
      "metadata": {
        "colab": {
          "base_uri": "https://localhost:8080/"
        },
        "id": "fgxqAd8pszG1",
        "outputId": "d56f872d-395b-4421-a231-b68db627a8fa"
      },
      "execution_count": 113,
      "outputs": [
        {
          "output_type": "stream",
          "name": "stderr",
          "text": [
            "ic| levenshtein(json_target_str,json_result_str): 23.0\n",
            "ic| distance(json_target_str,json_result_str): 23\n"
          ]
        },
        {
          "output_type": "execute_result",
          "data": {
            "text/plain": [
              "23"
            ]
          },
          "metadata": {},
          "execution_count": 113
        }
      ]
    },
    {
      "cell_type": "markdown",
      "source": [
        "# Idea: Create flat text-list from JSON\n",
        "\n",
        "sort, then compare"
      ],
      "metadata": {
        "id": "Y4SJ8UJR0XPa"
      }
    },
    {
      "cell_type": "code",
      "source": [
        "from benedict import benedict\n",
        "\n",
        "# source: https://stackoverflow.com/a/58611501\n",
        "\n",
        "def flatten_dict (my_dict):\n",
        "  # removes hierarchy and arrays in dict, return flat string array\n",
        "  dict_benedict = benedict(my_dict)\n",
        "  global flat_item # hacky solution by using 'global'...\n",
        "  flat_item = []\n",
        "  def traverse_item(dct, key, value):\n",
        "    global flat_item\n",
        "    check = (type(value) == str or type(value) == int or type(value) == float)\n",
        "    if check:\n",
        "      flat_item.append('{}: {}'.format(key, value)) # string template for result\n",
        "  dict_benedict.traverse(traverse_item)\n",
        "  return flat_item\n",
        "\n",
        "def array_to_sorted_string (string_array='', string_truncation=9999):\n",
        "  # sorts an array of strings, trunctes strings and finally convert everything into one string\n",
        "  my_array_sorted = sorted(string_array)\n",
        "  res = ''\n",
        "  for txt in my_array_sorted:\n",
        "    res = res + txt[:string_truncation] + ', '\n",
        "  return res[:-2]"
      ],
      "metadata": {
        "id": "NA2U21GawFeK"
      },
      "execution_count": 98,
      "outputs": []
    },
    {
      "cell_type": "code",
      "source": [
        "d = {'dict1': {'foo': 1, 'bar': 2}, 'dict2': {'baz': 'hello very long text here which can be truncated by function', 'quux': 4}}\n",
        "d_flat = flatten_dict(d)\n",
        "print(json.dumps(d_flat, indent=2))\n",
        "print(array_to_sorted_string(string_array=d_flat))\n",
        "print(array_to_sorted_string(string_array=d_flat, string_truncation=20))"
      ],
      "metadata": {
        "id": "y30vcQUd_5sl",
        "outputId": "dce0452d-affc-4a53-c54a-0dcce3a44ef3",
        "colab": {
          "base_uri": "https://localhost:8080/"
        }
      },
      "execution_count": 106,
      "outputs": [
        {
          "output_type": "stream",
          "name": "stdout",
          "text": [
            "[\n",
            "  \"foo: 1\",\n",
            "  \"bar: 2\",\n",
            "  \"baz: hello very long text here which can be truncated by function\",\n",
            "  \"quux: 4\"\n",
            "]\n",
            "bar: 2, baz: hello very long text here which can be truncated by function, foo: 1, quux: 4\n",
            "bar: 2, baz: hello very long, foo: 1, quux: 4\n"
          ]
        }
      ]
    },
    {
      "cell_type": "code",
      "source": [
        "d_flat = flatten_dict(json_result)\n",
        "print(json.dumps(d_flat, indent=2))\n",
        "print(array_to_sorted_string(string_array=d_flat))\n",
        "print(array_to_sorted_string(string_array=d_flat, string_truncation=50))"
      ],
      "metadata": {
        "id": "og7FOktJ_79a",
        "outputId": "b5efd46c-ecac-4b44-eb3f-0cefcfc83378",
        "colab": {
          "base_uri": "https://localhost:8080/"
        }
      },
      "execution_count": 107,
      "outputs": [
        {
          "output_type": "stream",
          "name": "stdout",
          "text": [
            "[\n",
            "  \"Versicherungsnehmer_Name: Zorrsen Beteiligungsgesellschaft\",\n",
            "  \"testB: 34\",\n",
            "  \"key3: value3\",\n",
            "  \"key1: value1\",\n",
            "  \"key2: value2\",\n",
            "  \"key4: value4\",\n",
            "  \"key3: value3\",\n",
            "  \"Versicherungssumme: 5500000\"\n",
            "]\n",
            "Versicherungsnehmer_Name: Zorrsen Beteiligungsgesellschaft, Versicherungssumme: 5500000, key1: value1, key2: value2, key3: value3, key3: value3, key4: value4, testB: 34\n",
            "Versicherungsnehmer_Name: Zorrsen Beteiligungsgese, Versicherungssumme: 5500000, key1: value1, key2: value2, key3: value3, key3: value3, key4: value4, testB: 34\n"
          ]
        }
      ]
    }
  ]
}