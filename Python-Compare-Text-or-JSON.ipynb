{
  "nbformat": 4,
  "nbformat_minor": 0,
  "metadata": {
    "colab": {
      "provenance": [],
      "authorship_tag": "ABX9TyMXc/YB9ZcYOBBIbZQWKi7i",
      "include_colab_link": true
    },
    "kernelspec": {
      "name": "python3",
      "display_name": "Python 3"
    },
    "language_info": {
      "name": "python"
    }
  },
  "cells": [
    {
      "cell_type": "markdown",
      "metadata": {
        "id": "view-in-github",
        "colab_type": "text"
      },
      "source": [
        "<a href=\"https://colab.research.google.com/github/aknip/Coding-Cheatsheets/blob/main/Python-Compare-Text-or-JSON.ipynb\" target=\"_parent\"><img src=\"https://colab.research.google.com/assets/colab-badge.svg\" alt=\"Open In Colab\"/></a>"
      ]
    },
    {
      "cell_type": "markdown",
      "source": [
        "# Compare Texts, Compare JSONS\n",
        "\n",
        "Content:\n",
        "1. Compare Texts: Levenshtein Distance\n",
        "2. Compare JSON (by text) - simple approach\n",
        "3. Flatten JSON before text comparison\n",
        "4. Compare JSON (by text) - the final approach\n",
        "5. Compare JSON (by structure)\n",
        "6. Compare Text or JSON by AI/LLM\n",
        "7. Summarized - all functions in one place\n",
        "\n",
        "Usecase: Compare and benchmark LLM results"
      ],
      "metadata": {
        "id": "5PVvW81bJqS6"
      }
    },
    {
      "cell_type": "code",
      "execution_count": null,
      "metadata": {
        "id": "0O1ck0sc0m2v"
      },
      "outputs": [],
      "source": [
        "!pip install openai litellm numpy python-benedict icecream levenshtein --quiet"
      ]
    },
    {
      "cell_type": "code",
      "source": [
        "import json\n",
        "import os\n",
        "from getpass import getpass\n",
        "import psutil\n",
        "IN_NOTEBOOK = any([\"jupyter-notebook\" in i for i in psutil.Process().parent().cmdline()])\n",
        "if IN_NOTEBOOK:\n",
        "  CREDS = json.loads(getpass(\"Secrets (JSON string): \"))\n",
        "  os.environ['CREDS'] = json.dumps(CREDS)\n",
        "  CREDS = json.loads(os.getenv('CREDS'))"
      ],
      "metadata": {
        "colab": {
          "base_uri": "https://localhost:8080/"
        },
        "id": "B62fb-6HcVE7",
        "outputId": "5b91ce35-8dba-4b5e-fe84-a57cf33bf482"
      },
      "execution_count": 2,
      "outputs": [
        {
          "name": "stdout",
          "output_type": "stream",
          "text": [
            "Secrets (JSON string): ··········\n"
          ]
        }
      ]
    },
    {
      "cell_type": "code",
      "source": [
        "import json\n",
        "import textwrap\n",
        "from icecream import ic\n",
        "\n",
        "import openai\n",
        "from litellm import completion\n",
        "os.environ[\"OPENAI_API_KEY\"] = CREDS['OpenAI']['v1']['credential'] # my key\n",
        "os.environ[\"TOGETHERAI_API_KEY\"] = CREDS['together-ai']['key']['credential']"
      ],
      "metadata": {
        "id": "myZYsW9oZkEv"
      },
      "execution_count": 3,
      "outputs": []
    },
    {
      "cell_type": "markdown",
      "source": [
        "# 1. Compare Texts: Levenshtein Distance and ROUGE"
      ],
      "metadata": {
        "id": "MHhZapx6G9J9"
      }
    },
    {
      "cell_type": "markdown",
      "source": [
        "- https://towardsdatascience.com/text-similarity-w-levenshtein-distance-in-python-2f7478986e75#\n",
        "- Notebook: https://github.com/vatsal220/medium_articles/blob/main/levenshtein_distance/lev_dist.ipynb\n",
        "- Github: The Levenshtein Python C extension module contains functions for fast computation of Levenshtein distance and string similarity https://github.com/rapidfuzz/Levenshtein"
      ],
      "metadata": {
        "id": "tsDTS-NYHBiF"
      }
    },
    {
      "cell_type": "markdown",
      "source": [
        "### Levenshtein: Two implementations, same results..."
      ],
      "metadata": {
        "id": "QiZOG0zoIRmx"
      }
    },
    {
      "cell_type": "code",
      "source": [
        "# First implementation, using numpy\n",
        "\n",
        "import numpy as np\n",
        "\n",
        "def levenshtein(seq1, seq2):\n",
        "    # source: https://github.com/vatsal220/medium_articles/blob/main/levenshtein_distance/lev_dist.ipynb\n",
        "    size_x = len(seq1) + 1\n",
        "    size_y = len(seq2) + 1\n",
        "    matrix = np.zeros ((size_x, size_y))\n",
        "    for x in range(size_x):\n",
        "        matrix [x, 0] = x\n",
        "    for y in range(size_y):\n",
        "        matrix [0, y] = y\n",
        "\n",
        "    for x in range(1, size_x):\n",
        "        for y in range(1, size_y):\n",
        "            if seq1[x-1] == seq2[y-1]:\n",
        "                matrix [x,y] = min(\n",
        "                    matrix[x-1, y] + 1,\n",
        "                    matrix[x-1, y-1],\n",
        "                    matrix[x, y-1] + 1\n",
        "                )\n",
        "            else:\n",
        "                matrix [x,y] = min(\n",
        "                    matrix[x-1,y] + 1,\n",
        "                    matrix[x-1,y-1] + 1,\n",
        "                    matrix[x,y-1] + 1\n",
        "                )\n",
        "    #ic(matrix)\n",
        "    return (matrix[size_x - 1, size_y - 1])"
      ],
      "metadata": {
        "id": "zz7ouhhdsPKl"
      },
      "execution_count": 31,
      "outputs": []
    },
    {
      "cell_type": "code",
      "source": [
        "# Second implementation, using Levenshtein Python C extension module https://github.com/rapidfuzz/\n",
        "\n",
        "from Levenshtein import distance"
      ],
      "metadata": {
        "id": "K4ZkhG1xImKn"
      },
      "execution_count": 32,
      "outputs": []
    },
    {
      "cell_type": "code",
      "source": [
        "# 1. test: Simple one word\n",
        "string1 = 'stamp'\n",
        "string2 = 'stomp'\n",
        "ic(\"1. test\")\n",
        "ic(levenshtein(string1, string2))\n",
        "ic(distance(string1, string2))\n",
        "\n",
        "# 2. test: Sentences, case, whitespace\n",
        "string1 = 'Hello world, a longer example. With two sentences. Punctuation and upper-/lower case count. Spaces, too!'\n",
        "string2 = 'Hello world, a longer example. With two sentences, punctuation and upper-/lower case count.    Spaces, too!'\n",
        "ic(\"2. test\")\n",
        "ic(levenshtein(string1, string2))\n",
        "ic(distance(string1, string2))"
      ],
      "metadata": {
        "colab": {
          "base_uri": "https://localhost:8080/"
        },
        "id": "m1kEKbsCsc_v",
        "outputId": "6c5d8e17-5add-4349-fa33-2fa26cb05eca"
      },
      "execution_count": 33,
      "outputs": [
        {
          "output_type": "stream",
          "name": "stderr",
          "text": [
            "ic| '1. test'\n",
            "ic| levenshtein(string1, string2): 1.0\n",
            "ic| distance(string1, string2): 1\n",
            "ic| '2. test'\n",
            "ic| levenshtein(string1, string2): 5.0\n",
            "ic| distance(string1, string2): 5\n"
          ]
        },
        {
          "output_type": "execute_result",
          "data": {
            "text/plain": [
              "5"
            ]
          },
          "metadata": {},
          "execution_count": 33
        }
      ]
    },
    {
      "cell_type": "markdown",
      "source": [
        "### ROUGE\n",
        "\n",
        "Source: https://txt.cohere.com/evaluating-llm-outputs/#llm-generated-evaluation"
      ],
      "metadata": {
        "id": "yMCo--r-1d9D"
      }
    },
    {
      "cell_type": "code",
      "source": [
        "from collections import Counter\n",
        "\n",
        "def rouge_1(reference, candidate):\n",
        "    # Turn into unigrams\n",
        "    reference_words = reference.split()\n",
        "    candidate_words = candidate.split()\n",
        "\n",
        "    # Compute the number of overlapping words\n",
        "    reference_count = Counter(reference_words)\n",
        "    candidate_count = Counter(candidate_words)\n",
        "    overlap = sum(min(candidate_count[w], reference_count[w]) for w in candidate_count)\n",
        "\n",
        "    # Compute precision, recall, and F1 score\n",
        "    recall = overlap / len(reference_words)\n",
        "    precision = overlap / len(candidate_words)\n",
        "    if (recall + precision) != 0:\n",
        "      f1 = 2 * (recall * precision) / (recall + precision)\n",
        "    else:\n",
        "      f1 = 0\n",
        "\n",
        "    # Return resuls\n",
        "    return {\"recall\": recall, \"precision\": precision, \"f1\": f1}\n",
        "\n",
        "ref_answer = \"Because the sound quality is the best out there\"\n",
        "gen_answers = [\"Because the audio experience is unrivaled\",\n",
        "                     \"Because the microphone has the best quality\"]\n",
        "\n",
        "for index,gen_answer in enumerate(gen_answers):\n",
        "    result = rouge_1(ref_answer, gen_answer)\n",
        "    print(f\"Answer #{index+1}\")\n",
        "    print(f\"Precision: {result['precision']:.2f}\")\n",
        "    print(f\"Recall: {result['recall']:.2f}\")\n",
        "    print(f\"F1-Score: {result['f1']:.2f}\")\n",
        "    print(\"\\n\")"
      ],
      "metadata": {
        "colab": {
          "base_uri": "https://localhost:8080/"
        },
        "id": "f-8nhYPB1cEf",
        "outputId": "37140b64-aa2d-49d9-96b9-d58d9ee612f4"
      },
      "execution_count": 114,
      "outputs": [
        {
          "output_type": "stream",
          "name": "stdout",
          "text": [
            "Answer #1\n",
            "Precision: 0.50\n",
            "Recall: 0.33\n",
            "F1-Score: 0.40\n",
            "\n",
            "\n",
            "Answer #2\n",
            "Precision: 0.71\n",
            "Recall: 0.56\n",
            "F1-Score: 0.63\n",
            "\n",
            "\n"
          ]
        }
      ]
    },
    {
      "cell_type": "markdown",
      "source": [
        "# 2. Compare JSON (by text) - simple approach"
      ],
      "metadata": {
        "id": "mevhzSPfTFFD"
      }
    },
    {
      "cell_type": "code",
      "source": [
        "# 1. test: JSON, converted to string - and sorted for better comparison results\n",
        "string1 = json.dumps({'dict1': {'foo': 1, 'bar': 2}, 'dict2': {'baz': 'lorem ipsum', 'quux': 3}}, sort_keys = True)\n",
        "string2 = json.dumps({'dict1': {'bar': 9, 'foo': 1}, 'dict2': {'baz': 'lorem ipsum', 'quux': 3}}, sort_keys = True)\n",
        "ic(\"3. test\")\n",
        "ic(levenshtein(string1, string2))\n",
        "ic(distance(string1, string2))\n",
        "\n",
        "# 2. test: JSON, more complex, with arrays in different orders\n",
        "string1 = json.dumps({'dict1': {'foo': 1, 'bar': [1,2,3,4]}, 'dict2': {'baz': 'lorem ipsum', 'quux': [{'this': 1, 'is': 2}, {'another': 3, 'test': 2}]}}, sort_keys = True)\n",
        "string2 = json.dumps({'dict1': {'bar': [4,3,2,1], 'foo': 1}, 'dict2': {'baz': 'lorem ipsum', 'quux': [{'another': 3, 'test': 2}, {'this': 1, 'is': 2}]}}, sort_keys = True)\n",
        "ic(\"4. test\")\n",
        "ic(levenshtein(string1, string2))\n",
        "ic(distance(string1, string2))\n"
      ],
      "metadata": {
        "id": "EwgEZHEGTR0n",
        "outputId": "dc7af74c-912e-4022-8bb6-3ff864d3cac6",
        "colab": {
          "base_uri": "https://localhost:8080/"
        }
      },
      "execution_count": 34,
      "outputs": [
        {
          "output_type": "stream",
          "name": "stderr",
          "text": [
            "ic| '3. test'\n",
            "ic| levenshtein(string1, string2): 1.0\n",
            "ic| distance(string1, string2): 1\n",
            "ic| '4. test'\n",
            "ic| levenshtein(string1, string2): 28.0\n",
            "ic| distance(string1, string2): 28\n"
          ]
        },
        {
          "output_type": "execute_result",
          "data": {
            "text/plain": [
              "28"
            ]
          },
          "metadata": {},
          "execution_count": 34
        }
      ]
    },
    {
      "cell_type": "code",
      "source": [
        "# more details for 2. test:\n",
        "# data content is the same, but order inside of arrays is different => high Levenshtein distance\n",
        "print(\"string 1:\")\n",
        "print(json.dumps(json.loads(string1), indent=2))\n",
        "print()\n",
        "print(\"string 2:\")\n",
        "print(json.dumps(json.loads(string2), indent=2))"
      ],
      "metadata": {
        "id": "duOr__mYTXT-",
        "outputId": "cad789dc-6fdd-4262-e67d-2acfccef0dc3",
        "colab": {
          "base_uri": "https://localhost:8080/"
        }
      },
      "execution_count": 35,
      "outputs": [
        {
          "output_type": "stream",
          "name": "stdout",
          "text": [
            "string 1:\n",
            "{\n",
            "  \"dict1\": {\n",
            "    \"bar\": [\n",
            "      1,\n",
            "      2,\n",
            "      3,\n",
            "      4\n",
            "    ],\n",
            "    \"foo\": 1\n",
            "  },\n",
            "  \"dict2\": {\n",
            "    \"baz\": \"lorem ipsum\",\n",
            "    \"quux\": [\n",
            "      {\n",
            "        \"is\": 2,\n",
            "        \"this\": 1\n",
            "      },\n",
            "      {\n",
            "        \"another\": 3,\n",
            "        \"test\": 2\n",
            "      }\n",
            "    ]\n",
            "  }\n",
            "}\n",
            "\n",
            "string 2:\n",
            "{\n",
            "  \"dict1\": {\n",
            "    \"bar\": [\n",
            "      4,\n",
            "      3,\n",
            "      2,\n",
            "      1\n",
            "    ],\n",
            "    \"foo\": 1\n",
            "  },\n",
            "  \"dict2\": {\n",
            "    \"baz\": \"lorem ipsum\",\n",
            "    \"quux\": [\n",
            "      {\n",
            "        \"another\": 3,\n",
            "        \"test\": 2\n",
            "      },\n",
            "      {\n",
            "        \"is\": 2,\n",
            "        \"this\": 1\n",
            "      }\n",
            "    ]\n",
            "  }\n",
            "}\n"
          ]
        }
      ]
    },
    {
      "cell_type": "markdown",
      "source": [
        "# 3. Flatten JSON before text comparison\n",
        "\n",
        "As the previous test case shows, the comparison of two JSON objects works fine for simple objects (no arrays). Sorting before comparison helps to optimize the comparison results.\n",
        "\n",
        "But nested objects and arrays lead to misleading Levenshtein distance results.\n",
        "\n",
        "Idea:\n",
        "- Flatten the JSON objects before the comparison\n",
        "- Remove JSON hierarchy\n",
        "- Resolve / isolate array values\n",
        "- Truncate long strings => focus for comparison on the first n characters"
      ],
      "metadata": {
        "id": "Y4SJ8UJR0XPa"
      }
    },
    {
      "cell_type": "code",
      "source": [
        "from benedict import benedict\n",
        "\n",
        "# source: https://stackoverflow.com/a/58611501\n",
        "\n",
        "def flatten_dict (dictionary={}, template='{}: {}', string_truncation=9999):\n",
        "  # removes hierarchy and arrays in dict, return flat string array\n",
        "  dict_benedict = benedict(dictionary)\n",
        "  global flat_item # hacky solution by using 'global'...\n",
        "  flat_item = []\n",
        "  def traverse_item(dct, key, value):\n",
        "    global flat_item\n",
        "    check = (type(value) == str or type(value) == int or type(value) == float)\n",
        "    if check:\n",
        "      value_trunc=str(value)[:string_truncation]\n",
        "      flat_item.append(template.format(key, value_trunc)) # string template for result\n",
        "  dict_benedict.traverse(traverse_item)\n",
        "  return flat_item\n",
        "\n",
        "def array_to_sorted_string (string_array=''):\n",
        "  # sorts an array of strings, trunctes strings and finally convert everything into one string\n",
        "  my_array_sorted = sorted(string_array)\n",
        "  res = ''\n",
        "  for txt in my_array_sorted:\n",
        "    res = res + txt + ', '\n",
        "  return res[:-2]"
      ],
      "metadata": {
        "id": "NA2U21GawFeK"
      },
      "execution_count": 58,
      "outputs": []
    },
    {
      "cell_type": "code",
      "source": [
        "# 1. test: Flatten a simple dict\n",
        "d = {'dict1': {'foo': 1, 'bar': 2}, 'dict2': {'baz': 'hello very long text here which can be truncated by function', 'quux': 4}}\n",
        "d_flat = flatten_dict(dictionary=d, string_truncation=20)\n",
        "print(json.dumps(d_flat, indent=2))\n",
        "print(array_to_sorted_string(string_array=d_flat))\n",
        "print(array_to_sorted_string(string_array=d_flat))"
      ],
      "metadata": {
        "colab": {
          "base_uri": "https://localhost:8080/"
        },
        "id": "y30vcQUd_5sl",
        "outputId": "e6d90cb0-71bc-42e5-bb0b-74971ba836f8"
      },
      "execution_count": 60,
      "outputs": [
        {
          "output_type": "stream",
          "name": "stdout",
          "text": [
            "[\n",
            "  \"foo: 1\",\n",
            "  \"bar: 2\",\n",
            "  \"baz: hello very long text\",\n",
            "  \"quux: 4\"\n",
            "]\n",
            "bar: 2, baz: hello very long text, foo: 1, quux: 4\n",
            "bar: 2, baz: hello very long text, foo: 1, quux: 4\n"
          ]
        }
      ]
    },
    {
      "cell_type": "code",
      "source": [
        "# 2. test: Complex dict with arrays (same as 2. test for Levenshtein distance above)\n",
        "d = {'dict1': {'foo': 1, 'bar': [1,2,3,4]}, 'dict2': {'baz': 'lorem ipsum', 'quux': [{'this': 1, 'is': 2}, {'another': 3, 'test': 2}]}}\n",
        "d_flat = flatten_dict(dictionary=d)\n",
        "print(json.dumps(d_flat, indent=2))\n",
        "print(array_to_sorted_string(string_array=d_flat))\n",
        "\n",
        "d = {'dict1': {'bar': [4,3,2,1], 'foo': 1}, 'dict2': {'baz': 'lorem ipsum', 'quux': [{'another': 3, 'test': 2}, {'this': 1, 'is': 2}]}}\n",
        "d_flat = flatten_dict(dictionary=d)\n",
        "print(json.dumps(d_flat, indent=2))\n",
        "print(array_to_sorted_string(string_array=d_flat))\n"
      ],
      "metadata": {
        "id": "PcGQI_pmSZYJ",
        "outputId": "583e9524-0aaa-4490-9754-fb83d6ad2b85",
        "colab": {
          "base_uri": "https://localhost:8080/"
        }
      },
      "execution_count": 62,
      "outputs": [
        {
          "output_type": "stream",
          "name": "stdout",
          "text": [
            "[\n",
            "  \"foo: 1\",\n",
            "  \"0: 1\",\n",
            "  \"1: 2\",\n",
            "  \"2: 3\",\n",
            "  \"3: 4\",\n",
            "  \"baz: lorem ipsum\",\n",
            "  \"this: 1\",\n",
            "  \"is: 2\",\n",
            "  \"another: 3\",\n",
            "  \"test: 2\"\n",
            "]\n",
            "0: 1, 1: 2, 2: 3, 3: 4, another: 3, baz: lorem ipsum, foo: 1, is: 2, test: 2, this: 1\n",
            "[\n",
            "  \"0: 4\",\n",
            "  \"1: 3\",\n",
            "  \"2: 2\",\n",
            "  \"3: 1\",\n",
            "  \"foo: 1\",\n",
            "  \"baz: lorem ipsum\",\n",
            "  \"another: 3\",\n",
            "  \"test: 2\",\n",
            "  \"this: 1\",\n",
            "  \"is: 2\"\n",
            "]\n",
            "0: 4, 1: 3, 2: 2, 3: 1, another: 3, baz: lorem ipsum, foo: 1, is: 2, test: 2, this: 1\n"
          ]
        }
      ]
    },
    {
      "cell_type": "markdown",
      "source": [
        "# 4. Compare JSON (by text) - the final approach with Levenshtein, ROUGE ..."
      ],
      "metadata": {
        "id": "sek-w80eVDFs"
      }
    },
    {
      "cell_type": "code",
      "source": [
        "# Let's take the two complex JSON objects from above (nested, arrays, order shuffled - both have the same data content):\n",
        "d1 = {'dict1': {'foo': 1, 'bar': [1,2,3,4]}, 'dict2': {'baz': 'lorem ipsum', 'quux': [{'this': 1, 'is': 2}, {'another': 3, 'test': 2}]}}\n",
        "print(json.dumps(d1, indent=2))\n",
        "d2 = {'dict1': {'bar': [4,3,2,1], 'foo': 1}, 'dict2': {'baz': 'lorem ipsum', 'quux': [{'another': 3, 'test': 2}, {'this': 1, 'is': 2}]}}\n",
        "print()\n",
        "print(json.dumps(d2, indent=2))"
      ],
      "metadata": {
        "id": "_Gvozj19VToR",
        "outputId": "60498210-7f7e-4e65-e2a9-3c4f33813cd5",
        "colab": {
          "base_uri": "https://localhost:8080/"
        }
      },
      "execution_count": 63,
      "outputs": [
        {
          "output_type": "stream",
          "name": "stdout",
          "text": [
            "{\n",
            "  \"dict1\": {\n",
            "    \"foo\": 1,\n",
            "    \"bar\": [\n",
            "      1,\n",
            "      2,\n",
            "      3,\n",
            "      4\n",
            "    ]\n",
            "  },\n",
            "  \"dict2\": {\n",
            "    \"baz\": \"lorem ipsum\",\n",
            "    \"quux\": [\n",
            "      {\n",
            "        \"this\": 1,\n",
            "        \"is\": 2\n",
            "      },\n",
            "      {\n",
            "        \"another\": 3,\n",
            "        \"test\": 2\n",
            "      }\n",
            "    ]\n",
            "  }\n",
            "}\n",
            "\n",
            "{\n",
            "  \"dict1\": {\n",
            "    \"bar\": [\n",
            "      4,\n",
            "      3,\n",
            "      2,\n",
            "      1\n",
            "    ],\n",
            "    \"foo\": 1\n",
            "  },\n",
            "  \"dict2\": {\n",
            "    \"baz\": \"lorem ipsum\",\n",
            "    \"quux\": [\n",
            "      {\n",
            "        \"another\": 3,\n",
            "        \"test\": 2\n",
            "      },\n",
            "      {\n",
            "        \"this\": 1,\n",
            "        \"is\": 2\n",
            "      }\n",
            "    ]\n",
            "  }\n",
            "}\n"
          ]
        }
      ]
    },
    {
      "cell_type": "code",
      "source": [
        "# ... and compare them:\n",
        "d1_text = array_to_sorted_string(string_array=flatten_dict(dictionary=d1, string_truncation=4))\n",
        "print(d1_text)\n",
        "d2_text = array_to_sorted_string(string_array=flatten_dict(dictionary=d2, string_truncation=4))\n",
        "print(d2_text)\n",
        "print(\"Levenshtein distance:\")\n",
        "print(levenshtein(d1_text, d2_text))\n",
        "print(distance(d1_text, d2_text))"
      ],
      "metadata": {
        "id": "-BHt5Tk8Vvcd",
        "outputId": "30726301-b4de-4e81-b960-0c66a789920c",
        "colab": {
          "base_uri": "https://localhost:8080/"
        }
      },
      "execution_count": 68,
      "outputs": [
        {
          "output_type": "stream",
          "name": "stdout",
          "text": [
            "0: 1, 1: 2, 2: 3, 3: 4, another: 3, baz: lore, foo: 1, is: 2, test: 2, this: 1\n",
            "0: 4, 1: 3, 2: 2, 3: 1, another: 3, baz: lore, foo: 1, is: 2, test: 2, this: 1\n",
            "Levenshtein distance:\n",
            "4.0\n",
            "4\n"
          ]
        }
      ]
    },
    {
      "cell_type": "markdown",
      "source": [
        "# 5. Compare JSON (by structure)"
      ],
      "metadata": {
        "id": "DxlV5rtm-DcS"
      }
    },
    {
      "cell_type": "code",
      "source": [
        "from benedict import benedict\n",
        "\n",
        "def get_keys(my_dict):\n",
        "  # removes hierarchy and arrays in dict, returns array of all keys\n",
        "  # source: https://stackoverflow.com/a/71857572\n",
        "  keys = []\n",
        "  if isinstance(my_dict, list):\n",
        "      for item in my_dict:\n",
        "          keys.extend(get_keys(item))\n",
        "  elif isinstance(my_dict, dict):\n",
        "      for key in my_dict:\n",
        "          keys.append(key)\n",
        "          keys.extend(get_keys(my_dict[key]))\n",
        "  return keys\n",
        "\n",
        "def get_entries (my_dict):\n",
        "  # removes hierarchy and arrays in dict, returns array of all values (dict) or single entries (list/array)\n",
        "  # source: https://stackoverflow.com/a/58611501\n",
        "  dict_benedict = benedict(my_dict)\n",
        "  global flat_item # hacky solution by using 'global'...\n",
        "  flat_item = []\n",
        "  def traverse_item(dct, key, value):\n",
        "    global flat_item\n",
        "    check = (type(value) == str or type(value) == int or type(value) == float)\n",
        "    if check:\n",
        "      flat_item.append('{}'.format(value)) # string template for result\n",
        "      #flat_item.append('{}: {}'.format(key, value)) # string template for result\n",
        "  dict_benedict.traverse(traverse_item)\n",
        "  return flat_item"
      ],
      "metadata": {
        "id": "CXkGJu4W-FcP"
      },
      "execution_count": 69,
      "outputs": []
    },
    {
      "cell_type": "code",
      "source": [
        "# Let's take the two complex JSON objects from above (nested, arrays, order shuffled - both have the same data content):\n",
        "d1 = {'dict1': {'foo': 1, 'bar': [1,2,3,4]}, 'dict2': {'baz': 'lorem ipsum', 'quux': [{'this': 1, 'is': 2}, {'another': 3, 'test': 2}]}}\n",
        "print(json.dumps(d1, indent=2))\n",
        "d2 = {'dict1': {'bar': [5,4,3,2,1], 'foo': 1}, 'dict2': {'baz': 'lorem ipsum', 'quux': [{'another': 3, 'test': 2}, {'this': 1, 'is': 2}]}, 'dict3': 'added'}\n",
        "print()\n",
        "print(json.dumps(d2, indent=2))"
      ],
      "metadata": {
        "id": "rCnUmPvG-cIy",
        "colab": {
          "base_uri": "https://localhost:8080/"
        },
        "outputId": "03716d1a-5a8d-4fcd-8fe7-f3e7498fb788"
      },
      "execution_count": 70,
      "outputs": [
        {
          "output_type": "stream",
          "name": "stdout",
          "text": [
            "{\n",
            "  \"dict1\": {\n",
            "    \"foo\": 1,\n",
            "    \"bar\": [\n",
            "      1,\n",
            "      2,\n",
            "      3,\n",
            "      4\n",
            "    ]\n",
            "  },\n",
            "  \"dict2\": {\n",
            "    \"baz\": \"lorem ipsum\",\n",
            "    \"quux\": [\n",
            "      {\n",
            "        \"this\": 1,\n",
            "        \"is\": 2\n",
            "      },\n",
            "      {\n",
            "        \"another\": 3,\n",
            "        \"test\": 2\n",
            "      }\n",
            "    ]\n",
            "  }\n",
            "}\n",
            "\n",
            "{\n",
            "  \"dict1\": {\n",
            "    \"bar\": [\n",
            "      5,\n",
            "      4,\n",
            "      3,\n",
            "      2,\n",
            "      1\n",
            "    ],\n",
            "    \"foo\": 1\n",
            "  },\n",
            "  \"dict2\": {\n",
            "    \"baz\": \"lorem ipsum\",\n",
            "    \"quux\": [\n",
            "      {\n",
            "        \"another\": 3,\n",
            "        \"test\": 2\n",
            "      },\n",
            "      {\n",
            "        \"this\": 1,\n",
            "        \"is\": 2\n",
            "      }\n",
            "    ]\n",
            "  },\n",
            "  \"dict3\": \"added\"\n",
            "}\n"
          ]
        }
      ]
    },
    {
      "cell_type": "code",
      "source": [
        "d1_entries = get_entries(d1)\n",
        "d1_keys = get_keys(d1)\n",
        "print(d1_entries)\n",
        "print(d1_keys)\n",
        "print(len(d1_entries))\n",
        "print(len(d1_keys))"
      ],
      "metadata": {
        "colab": {
          "base_uri": "https://localhost:8080/"
        },
        "id": "Pn8kwFtr-lCM",
        "outputId": "2bdb4c47-9432-4122-bbdc-e4b73dcf2d5d"
      },
      "execution_count": 71,
      "outputs": [
        {
          "output_type": "stream",
          "name": "stdout",
          "text": [
            "['1', '1', '2', '3', '4', 'lorem ipsum', '1', '2', '3', '2']\n",
            "['dict1', 'foo', 'bar', 'dict2', 'baz', 'quux', 'this', 'is', 'another', 'test']\n",
            "10\n",
            "10\n"
          ]
        }
      ]
    },
    {
      "cell_type": "markdown",
      "source": [
        "# 6. Compare Text or JSON by AI/LLM"
      ],
      "metadata": {
        "id": "EGl_roBak_Ed"
      }
    },
    {
      "cell_type": "code",
      "source": [
        "target_JSON = {\n",
        "  \"Versicherungssumme\": \"5500000\",\n",
        "  \"Versicherungsnehmer_Name\": \"Zorrsen Beteiligungsgesellschaft mbH\",\n",
        "  \"Versicherungsnehmer_Anschrift\": \"Juliusweg 9, 28374 Zutzenhausen\",\n",
        "  \"Versicherungsnehmer_Branche\": \"Produktion von Aluminium-Großarmaturen\",\n",
        "  \"Versicherungsnehmer_Umsatz\": \"78500000\",\n",
        "  \"Vorschäden_benannt\": \"Ja, es gibt einen laufenden D&O-Schadensfall\"\n",
        "}\n",
        "#target_JSON_text = str(target_JSON)\n",
        "target_JSON_text = '{' + array_to_sorted_string(string_array=flatten_dict(dictionary=target_JSON, template='\"{}\": \"{}\"', string_truncation=20)) + '}'\n",
        "\n",
        "test_JSON = {\n",
        "  \"Versicherungsnehmer_Branche\": \"Produktion von Aluminium-Großarmaturen\",\n",
        "  \"Versicherungsnehmer_Name\": \"Zorrsen Beteiligungsgesellschaft mbH\",\n",
        "  \"Versicherungsnehmer_Anschrift\": \"Juliusweg 9, 28374 Zutzenhausen\",\n",
        "  \"Vorschäden_benannt\": \"Ja, es gibt einen laufenden D&O-Schadensfall aufgrund einer Inanspruchnahme eines ehemaligen Geschäftsführers aus dem Jahr 2017.\",\n",
        "  \"Versicherungssumme\": \"5500000\",\n",
        "  \"Versicherungsnehmer_Umsatz\": \"78500000\"\n",
        "}\n",
        "#test_JSON_text = str(test_JSON)\n",
        "test_JSON_text = '{' + array_to_sorted_string(string_array=flatten_dict(dictionary=test_JSON, template='\"{}\": \"{}\"', string_truncation=20)) + '}'\n",
        "\n",
        "\n",
        "prompt=f\"\"\"You are a data analyst and help to benchmark results of a webserive. The ideal result is called 'Target-JSON', the actual result is called 'Test-JSON':\\n\n",
        "Target-JSON: {target_JSON_text}\\n\n",
        "Test-JSON: {test_JSON_text}\\n\n",
        "Please rate the Test-JSON in a range of 0.00-1.00 if it fits to the Target-JSON.\n",
        "Answer in the JSON-format: {{'AI-Rating': 0.75, 'Differences': 'Field name is missing, field street has a different value.'}}\n",
        "\"\"\"\n",
        "print(prompt)\n"
      ],
      "metadata": {
        "colab": {
          "base_uri": "https://localhost:8080/"
        },
        "id": "cR8nh_L4lA2q",
        "outputId": "5e4f147f-3181-4dd3-f8fb-7e9eadc22657"
      },
      "execution_count": 126,
      "outputs": [
        {
          "output_type": "stream",
          "name": "stdout",
          "text": [
            "You are a data analyst and help to benchmark results of a webserive. The ideal result is called 'Target-JSON', the actual result is called 'Test-JSON':\n",
            "\n",
            "Target-JSON: {\"Versicherungsnehmer_Anschrift\": \"Juliusweg 9, 28374 Z\", \"Versicherungsnehmer_Branche\": \"Produktion von Alumi\", \"Versicherungsnehmer_Name\": \"Zorrsen Beteiligungs\", \"Versicherungsnehmer_Umsatz\": \"78500000\", \"Versicherungssumme\": \"5500000\", \"Vorschäden_benannt\": \"Ja, es gibt einen la\"}\n",
            "\n",
            "Test-JSON: {\"Versicherungsnehmer_Anschrift\": \"Juliusweg 9, 28374 Z\", \"Versicherungsnehmer_Branche\": \"Produktion von Alumi\", \"Versicherungsnehmer_Name\": \"Zorrsen Beteiligungs\", \"Versicherungsnehmer_Umsatz\": \"78500000\", \"Versicherungssumme\": \"5500000\", \"Vorschäden_benannt\": \"Ja, es gibt einen la\"}\n",
            "\n",
            "Please rate the Test-JSON in a range of 0.00-1.00 if it fits to the Target-JSON. \n",
            "Answer in the JSON-format: {'AI-Rating': 0.75, 'Differences': 'Field name is missing, field street has a different value.'}\n",
            "\n"
          ]
        }
      ]
    },
    {
      "cell_type": "code",
      "source": [
        "response = completion(\n",
        "  #model=\"gpt-3.5-turbo\",\n",
        "  model=\"gpt-4\",\n",
        "  messages=[{ \"content\": prompt,\"role\": \"user\"}],\n",
        "  temperature=0,\n",
        "  max_tokens=50\n",
        ")\n",
        "print()\n",
        "print(response.choices[0].message.content)"
      ],
      "metadata": {
        "colab": {
          "base_uri": "https://localhost:8080/"
        },
        "id": "7_s-dtd0sRUK",
        "outputId": "0ab9fb95-5531-494f-b88d-9863083bf0b7"
      },
      "execution_count": 127,
      "outputs": [
        {
          "output_type": "stream",
          "name": "stdout",
          "text": [
            "\n",
            "{'AI-Rating': 1.00, 'Differences': 'No differences found.'}\n"
          ]
        }
      ]
    },
    {
      "cell_type": "markdown",
      "source": [
        "# 7. Summarized - all functions in one place"
      ],
      "metadata": {
        "id": "pfi08UaBOlFK"
      }
    },
    {
      "cell_type": "code",
      "source": [
        "import numpy as np\n",
        "from benedict import benedict\n",
        "\n",
        "def levenshtein(seq1, seq2):\n",
        "    # source: https://github.com/vatsal220/medium_articles/blob/main/levenshtein_distance/lev_dist.ipynb\n",
        "    size_x = len(seq1) + 1\n",
        "    size_y = len(seq2) + 1\n",
        "    matrix = np.zeros ((size_x, size_y))\n",
        "    for x in range(size_x):\n",
        "        matrix [x, 0] = x\n",
        "    for y in range(size_y):\n",
        "        matrix [0, y] = y\n",
        "\n",
        "    for x in range(1, size_x):\n",
        "        for y in range(1, size_y):\n",
        "            if seq1[x-1] == seq2[y-1]:\n",
        "                matrix [x,y] = min(\n",
        "                    matrix[x-1, y] + 1,\n",
        "                    matrix[x-1, y-1],\n",
        "                    matrix[x, y-1] + 1\n",
        "                )\n",
        "            else:\n",
        "                matrix [x,y] = min(\n",
        "                    matrix[x-1,y] + 1,\n",
        "                    matrix[x-1,y-1] + 1,\n",
        "                    matrix[x,y-1] + 1\n",
        "                )\n",
        "    #ic(matrix)\n",
        "    return (matrix[size_x - 1, size_y - 1])\n",
        "\n",
        "\n",
        "def flatten_dict (dictionary={}, template='{}: {}', string_truncation=9999):\n",
        "  # removes hierarchy and arrays in dict, return flat string array\n",
        "  dict_benedict = benedict(dictionary)\n",
        "  global flat_item # hacky solution by using 'global'...\n",
        "  flat_item = []\n",
        "  def traverse_item(dct, key, value):\n",
        "    global flat_item\n",
        "    check = (type(value) == str or type(value) == int or type(value) == float)\n",
        "    if check:\n",
        "      value_trunc=str(value)[:string_truncation]\n",
        "      flat_item.append(template.format(key, value_trunc)) # string template for result\n",
        "  dict_benedict.traverse(traverse_item)\n",
        "  return flat_item\n",
        "\n",
        "def array_to_sorted_string (string_array=''):\n",
        "  # sorts an array of strings, trunctes strings and finally convert everything into one string\n",
        "  my_array_sorted = sorted(string_array)\n",
        "  res = ''\n",
        "  for txt in my_array_sorted:\n",
        "    res = res + txt + ', '\n",
        "  return res[:-2]\n",
        "\n",
        "def get_keys(my_dict):\n",
        "  # removes hierarchy and arrays in dict, returns array of all keys\n",
        "  # source: https://stackoverflow.com/a/71857572\n",
        "  keys = []\n",
        "  if isinstance(my_dict, list):\n",
        "      for item in my_dict:\n",
        "          keys.extend(get_keys(item))\n",
        "  elif isinstance(my_dict, dict):\n",
        "      for key in my_dict:\n",
        "          keys.append(key)\n",
        "          keys.extend(get_keys(my_dict[key]))\n",
        "  return keys\n",
        "\n",
        "def get_entries (my_dict):\n",
        "  # removes hierarchy and arrays in dict, returns array of all values (dict) or single entries (list/array)\n",
        "  # source: https://stackoverflow.com/a/58611501\n",
        "  dict_benedict = benedict(my_dict)\n",
        "  global flat_item # hacky solution by using 'global'...\n",
        "  flat_item = []\n",
        "  def traverse_item(dct, key, value):\n",
        "    global flat_item\n",
        "    check = (type(value) == str or type(value) == int or type(value) == float)\n",
        "    if check:\n",
        "      flat_item.append('{}'.format(value)) # string template for result\n",
        "      #flat_item.append('{}: {}'.format(key, value)) # string template for result\n",
        "  dict_benedict.traverse(traverse_item)\n",
        "  return flat_item"
      ],
      "metadata": {
        "id": "bpAUjGGJOnY-"
      },
      "execution_count": 81,
      "outputs": []
    },
    {
      "cell_type": "code",
      "source": [
        "# Examples 1:\n",
        "\n",
        "string1 = 'Hello world, a longer example. With two sentences. Punctuation and upper-/lower case count. Spaces, too!'\n",
        "string2 = 'Hello world, a longer example. With two sentences, punctuation and upper-/lower case count.    Spaces, too!'\n",
        "print(\"Text Levenshtein distance:\")\n",
        "print(levenshtein(string1, string2))\n",
        "\n",
        "d1 = {'dict1': {'foo': 1, 'bar': [1,2,3,4]}, 'dict2': {'baz': 'lorem ipsum', 'quux': [{'this': 1, 'is': 2}, {'another': 3, 'test': 2}]}}\n",
        "d2 = {'dict1': {'bar': [5,4,3,2,1], 'foo': 1}, 'dict2': {'baz': 'lorem ipsum', 'quux': [{'another': 3, 'test': 2}, {'this': 1, 'is': 2}]}, 'dict3': 'added'}\n",
        "d1_text = array_to_sorted_string(string_array=flatten_dict(dictionary=d1, string_truncation=999))\n",
        "d2_text = array_to_sorted_string(string_array=flatten_dict(dictionary=d2, string_truncation=999))\n",
        "\n",
        "print(\"JSON Levenshtein distance:\")\n",
        "print(levenshtein(d1_text, d2_text),len(d1_text))"
      ],
      "metadata": {
        "colab": {
          "base_uri": "https://localhost:8080/"
        },
        "id": "-cxfg3WzOpSp",
        "outputId": "519836a3-0ae6-419b-b3c5-db438a3f8513"
      },
      "execution_count": 87,
      "outputs": [
        {
          "output_type": "stream",
          "name": "stdout",
          "text": [
            "Text Levenshtein distance:\n",
            "5.0\n",
            "JSON Levenshtein distance:\n",
            "22.0 85\n"
          ]
        }
      ]
    },
    {
      "cell_type": "code",
      "source": [
        "# Examples 2: (loop)\n",
        "\n",
        "target_JSON = {\n",
        "    \"Versicherungssumme\": \"5500000\",\n",
        "    \"Versicherungsnehmer_Name\": \"Zorrsen Beteiligungsgesellschaft mbH\",\n",
        "    \"Versicherungsnehmer_Anschrift\": \"Juliusweg 9, 28374 Zutzenhausen\",\n",
        "    \"Versicherungsnehmer_Branche\": \"Produktion von Aluminium-Großarmaturen\",\n",
        "    \"Versicherungsnehmer_Umsatz\": \"78500000\",\n",
        "    \"Vorschäden_benannt\": \"Ja, es gibt einen laufenden D&O-Schadensfall\"\n",
        "}\n",
        "\n",
        "result_JSONs = [\n",
        "  {\n",
        "    \"Versicherungssumme\": 5500000,\n",
        "    \"Versicherungsnehmer_Name\": \"Zorrsen Beteiligungsgesellschaft mbH\",\n",
        "    \"Versicherungsnehmer_Anschrift\": \"Juliusweg 9, 28374 Zutzenhausen\",\n",
        "    \"Versicherungsnehmer_Branche\": \"Produktion von Aluminium-Großfarmaturen\",\n",
        "    \"Versicherungsnehmer_Umsatz\": 78500000,\n",
        "    \"Vorschäden_benannt\": \"Ja, es gibt einen laufenden D&O-Schadensfall\"\n",
        "  },\n",
        "  {\n",
        "    \"Versicherungssumme\": \"5500000\"\n",
        "  },\n",
        "  {\n",
        "    \"Versicherungssumme\": \"5500000\",\n",
        "    \"Versicherungsnehmer_Name\": \"Zorrsen Beteiligungsgesellschaft mbH\",\n",
        "    \"Versicherungsnehmer_Anschrift\": \"Juliusweg 9, 28374 Zutzenhausen\",\n",
        "    \"Versicherungsnehmer_Branche\": \"Produktion von Aluminium-Großarmaturen\",\n",
        "    \"Versicherungsnehmer_Umsatz\": \"78500000\",\n",
        "    \"Vorschäden_benannt\": \"Ja, es gibt einen laufenden D&O-Schadensfall aufgrund einer Inanspruchnahme eines ehemaligen Geschäftsführers aus dem Jahr 2017.\"\n",
        "  },\n",
        "  {\n",
        "    \"Versicherungssumme\": 5500000,\n",
        "    \"Versicherungsnehmer_Name\": \"Zorrsen Beteiligungsgesellschaft mbH\",\n",
        "    \"Versicherungsnehmer_Anschrift\": \"Juliusweg 9, 28374 Zutzenhausen\",\n",
        "    \"Versicherungsnehmer_Branche\": \"Produktion von Aluminium-Großarmaturen\",\n",
        "    \"Versicherungsnehmer_Umsatz\": 78500000,\n",
        "    \"Vorschäden_benannt\": \"Ja, D&O-Schadensfall im Jahr 2017\"\n",
        "  },\n",
        "  {\n",
        "    \"Versicherungssumme\": 5500000,\n",
        "    \"Versicherungsnehmer_Name\": \"Zorrsen Beteiligungsgesellschaft mbH\",\n",
        "    \"Versicherungsnehmer_Anschrift\": \"Juliusweg 9, 28374 Zutzenhausen\",\n",
        "    \"Versicherungsnehmer_Branche\": \"Produktion von Aluminium-Großarmaturen\",\n",
        "    \"Versicherungsnehmer_Umsatz\": 78500000,\n",
        "    \"Vorschäden_benannt\": \"Ja, laufender D&O-Schadensfall aufgrund einer Inanspruchnahme eines ehemaligen Geschäftsführers.\"\n",
        "  }\n",
        "]\n",
        "\n",
        "trunc = 50 # max len of key+value as string representation\n",
        "target_JSON_text = '{' + array_to_sorted_string(string_array=flatten_dict(dictionary=target_JSON, template='\"{}\": \"{}\"', string_truncation=trunc)) + '}'\n",
        "target_plain_text = array_to_sorted_string(string_array=flatten_dict(dictionary=target_JSON, template='{}: {}', string_truncation=trunc))\n",
        "target_entries_absolute = len(get_entries(target_JSON))\n",
        "target_keys_absolute = len(get_keys(target_JSON))\n",
        "\n",
        "for test_JSON in result_JSONs:\n",
        "  test_JSON_text = '{' + array_to_sorted_string(string_array=flatten_dict(dictionary=test_JSON, template='\"{}\": \"{}\"', string_truncation=trunc)) + '}'\n",
        "  test_plain_text = array_to_sorted_string(string_array=flatten_dict(dictionary=test_JSON, template='{}: {}', string_truncation=trunc))\n",
        "  print(target_plain_text)\n",
        "  print(test_plain_text)\n",
        "  test_lev_absolute = int(levenshtein(target_JSON_text, test_JSON_text))\n",
        "  # relative Levenshtein distance: 1.0 = no distance, identical / 0 = full distance, no similarity\n",
        "  test_lev_relative = 1-test_lev_absolute/len(target_JSON_text)\n",
        "  test_entries_absolute = len(get_entries(test_JSON))\n",
        "  test_entries_relative = test_entries_absolute/target_entries_absolute\n",
        "  test_keys_absolute = len(get_keys(test_JSON))\n",
        "  test_keys_relative = test_keys_absolute/target_keys_absolute\n",
        "  #print(f'Lev dist abs: {test_lev_absolute}')\n",
        "  print(f'Lev dist rel: {test_lev_relative:.2f}')\n",
        "  #print(f'Entries rel: {test_entries_relative:.2f}')\n",
        "  print(f'Keys rel: {test_keys_relative:.2f}')\n",
        "\n",
        "  rouge_result = rouge_1(target_plain_text, test_plain_text)\n",
        "  print(f\"Precision: {rouge_result['precision']:.2f}\")\n",
        "  print(f\"Recall: {rouge_result['recall']:.2f}\")\n",
        "  print(f\"F1-Score: {rouge_result['f1']:.2f}\")\n",
        "\n",
        "  prompt=f\"\"\"You are a data analyst and help to benchmark results of a webserive. The ideal result is called 'Target-JSON', the actual result is called 'Test-JSON':\\n\n",
        "Target-JSON: {target_JSON_text}\\n\n",
        "Test-JSON: {test_JSON_text}\\n\n",
        "Please rate the Test-JSON in a range of 0.00-1.00 if it fits to the Target-JSON.\n",
        "Answer in the JSON-format: {{'AI-Rating': 0.75, 'Differences': 'Field name is missing, field street has a different value.'}}\n",
        "\"\"\"\n",
        "  response = completion(\n",
        "    #model=\"gpt-3.5-turbo\",\n",
        "    model=\"gpt-4\",\n",
        "    messages=[{ \"content\": prompt,\"role\": \"user\"}],\n",
        "    temperature=0,\n",
        "    #max_tokens=50\n",
        "  )\n",
        "  #print(prompt)\n",
        "  print(response.choices[0].message.content)\n",
        "  print()\n"
      ],
      "metadata": {
        "colab": {
          "base_uri": "https://localhost:8080/"
        },
        "id": "8amTFmdXReo1",
        "outputId": "2bbc31a5-38cc-4945-fece-ec38f7aa0f63"
      },
      "execution_count": 125,
      "outputs": [
        {
          "output_type": "stream",
          "name": "stdout",
          "text": [
            "Versicherungsnehmer_Anschrift: Juliusweg 9, 28374 Zutzenhausen, Versicherungsnehmer_Branche: Produktion von Aluminium-Großarmaturen, Versicherungsnehmer_Name: Zorrsen Beteiligungsgesellschaft mbH, Versicherungsnehmer_Umsatz: 78500000, Versicherungssumme: 5500000, Vorschäden_benannt: Ja, es gibt einen laufenden D&O-Schadensfall\n",
            "Versicherungsnehmer_Anschrift: Juliusweg 9, 28374 Zutzenhausen, Versicherungsnehmer_Branche: Produktion von Aluminium-Großfarmaturen, Versicherungsnehmer_Name: Zorrsen Beteiligungsgesellschaft mbH, Versicherungsnehmer_Umsatz: 78500000, Versicherungssumme: 5500000, Vorschäden_benannt: Ja, es gibt einen laufenden D&O-Schadensfall\n",
            "Lev dist rel: 1.00\n",
            "Keys rel: 1.00\n",
            "Precision: 0.96\n",
            "Recall: 0.96\n",
            "F1-Score: 0.96\n",
            "{'AI-Rating': 0.83, 'Differences': 'Mismatch in the field \"Versicherungsnehmer_Branche\".'}\n",
            "\n",
            "Versicherungsnehmer_Anschrift: Juliusweg 9, 28374 Zutzenhausen, Versicherungsnehmer_Branche: Produktion von Aluminium-Großarmaturen, Versicherungsnehmer_Name: Zorrsen Beteiligungsgesellschaft mbH, Versicherungsnehmer_Umsatz: 78500000, Versicherungssumme: 5500000, Vorschäden_benannt: Ja, es gibt einen laufenden D&O-Schadensfall\n",
            "Versicherungssumme: 5500000\n",
            "Lev dist rel: 0.09\n",
            "Keys rel: 0.17\n",
            "Precision: 0.50\n",
            "Recall: 0.04\n",
            "F1-Score: 0.08\n",
            "{'AI-Rating': 0.17, 'Differences': 'Missing fields: Versicherungsnehmer_Anschrift, Versicherungsnehmer_Branche, Versicherungsnehmer_Name, Versicherungsnehmer_Umsatz, Vorschäden_benannt.'}\n",
            "\n",
            "Versicherungsnehmer_Anschrift: Juliusweg 9, 28374 Zutzenhausen, Versicherungsnehmer_Branche: Produktion von Aluminium-Großarmaturen, Versicherungsnehmer_Name: Zorrsen Beteiligungsgesellschaft mbH, Versicherungsnehmer_Umsatz: 78500000, Versicherungssumme: 5500000, Vorschäden_benannt: Ja, es gibt einen laufenden D&O-Schadensfall\n",
            "Versicherungsnehmer_Anschrift: Juliusweg 9, 28374 Zutzenhausen, Versicherungsnehmer_Branche: Produktion von Aluminium-Großarmaturen, Versicherungsnehmer_Name: Zorrsen Beteiligungsgesellschaft mbH, Versicherungsnehmer_Umsatz: 78500000, Versicherungssumme: 5500000, Vorschäden_benannt: Ja, es gibt einen laufenden D&O-Schadensfall aufgr\n",
            "Lev dist rel: 0.98\n",
            "Keys rel: 1.00\n",
            "Precision: 0.96\n",
            "Recall: 1.00\n",
            "F1-Score: 0.98\n",
            "{'AI-Rating': 0.95, 'Differences': 'Field \"Vorschäden_benannt\" has additional text.'}\n",
            "\n",
            "Versicherungsnehmer_Anschrift: Juliusweg 9, 28374 Zutzenhausen, Versicherungsnehmer_Branche: Produktion von Aluminium-Großarmaturen, Versicherungsnehmer_Name: Zorrsen Beteiligungsgesellschaft mbH, Versicherungsnehmer_Umsatz: 78500000, Versicherungssumme: 5500000, Vorschäden_benannt: Ja, es gibt einen laufenden D&O-Schadensfall\n",
            "Versicherungsnehmer_Anschrift: Juliusweg 9, 28374 Zutzenhausen, Versicherungsnehmer_Branche: Produktion von Aluminium-Großarmaturen, Versicherungsnehmer_Name: Zorrsen Beteiligungsgesellschaft mbH, Versicherungsnehmer_Umsatz: 78500000, Versicherungssumme: 5500000, Vorschäden_benannt: Ja, D&O-Schadensfall im Jahr 2017\n",
            "Lev dist rel: 0.90\n",
            "Keys rel: 1.00\n",
            "Precision: 0.87\n",
            "Recall: 0.83\n",
            "F1-Score: 0.85\n",
            "{'AI-Rating': 0.95, 'Differences': 'Different description in field Vorschäden_benannt.'}\n",
            "\n",
            "Versicherungsnehmer_Anschrift: Juliusweg 9, 28374 Zutzenhausen, Versicherungsnehmer_Branche: Produktion von Aluminium-Großarmaturen, Versicherungsnehmer_Name: Zorrsen Beteiligungsgesellschaft mbH, Versicherungsnehmer_Umsatz: 78500000, Versicherungssumme: 5500000, Vorschäden_benannt: Ja, es gibt einen laufenden D&O-Schadensfall\n",
            "Versicherungsnehmer_Anschrift: Juliusweg 9, 28374 Zutzenhausen, Versicherungsnehmer_Branche: Produktion von Aluminium-Großarmaturen, Versicherungsnehmer_Name: Zorrsen Beteiligungsgesellschaft mbH, Versicherungsnehmer_Umsatz: 78500000, Versicherungssumme: 5500000, Vorschäden_benannt: Ja, laufender D&O-Schadensfall aufgrund einer Inan\n",
            "Lev dist rel: 0.90\n",
            "Keys rel: 1.00\n",
            "Precision: 0.83\n",
            "Recall: 0.83\n",
            "F1-Score: 0.83\n",
            "{'AI-Rating': 0.95, 'Differences': 'Minor variation in the description of \"Vorschäden_benannt\" field.'}\n",
            "\n"
          ]
        }
      ]
    },
    {
      "cell_type": "code",
      "source": [],
      "metadata": {
        "id": "02SzcqBxZG3M"
      },
      "execution_count": null,
      "outputs": []
    }
  ]
}