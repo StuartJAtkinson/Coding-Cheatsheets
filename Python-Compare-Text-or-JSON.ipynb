{
  "nbformat": 4,
  "nbformat_minor": 0,
  "metadata": {
    "colab": {
      "provenance": [],
      "authorship_tag": "ABX9TyNNwUdLhQ3CDGjwDpO/pUav",
      "include_colab_link": true
    },
    "kernelspec": {
      "name": "python3",
      "display_name": "Python 3"
    },
    "language_info": {
      "name": "python"
    }
  },
  "cells": [
    {
      "cell_type": "markdown",
      "metadata": {
        "id": "view-in-github",
        "colab_type": "text"
      },
      "source": [
        "<a href=\"https://colab.research.google.com/github/aknip/Coding-Cheatsheets/blob/main/Python-Compare-Text-or-JSON.ipynb\" target=\"_parent\"><img src=\"https://colab.research.google.com/assets/colab-badge.svg\" alt=\"Open In Colab\"/></a>"
      ]
    },
    {
      "cell_type": "markdown",
      "source": [],
      "metadata": {
        "id": "5PVvW81bJqS6"
      }
    },
    {
      "cell_type": "code",
      "execution_count": null,
      "metadata": {
        "id": "0O1ck0sc0m2v"
      },
      "outputs": [],
      "source": [
        "!pip install numpy python-benedict"
      ]
    },
    {
      "cell_type": "code",
      "source": [
        "import json\n",
        "import textwrap"
      ],
      "metadata": {
        "id": "myZYsW9oZkEv"
      },
      "execution_count": 4,
      "outputs": []
    },
    {
      "cell_type": "code",
      "source": [
        "import numpy as np\n",
        "\n",
        "def levenshtein(seq1, seq2):\n",
        "    # source: https://github.com/vatsal220/medium_articles/blob/main/levenshtein_distance/lev_dist.ipynb\n",
        "    size_x = len(seq1) + 1\n",
        "    size_y = len(seq2) + 1\n",
        "    matrix = np.zeros ((size_x, size_y))\n",
        "    for x in range(size_x):\n",
        "        matrix [x, 0] = x\n",
        "    for y in range(size_y):\n",
        "        matrix [0, y] = y\n",
        "\n",
        "    for x in range(1, size_x):\n",
        "        for y in range(1, size_y):\n",
        "            if seq1[x-1] == seq2[y-1]:\n",
        "                matrix [x,y] = min(\n",
        "                    matrix[x-1, y] + 1,\n",
        "                    matrix[x-1, y-1],\n",
        "                    matrix[x, y-1] + 1\n",
        "                )\n",
        "            else:\n",
        "                matrix [x,y] = min(\n",
        "                    matrix[x-1,y] + 1,\n",
        "                    matrix[x-1,y-1] + 1,\n",
        "                    matrix[x,y-1] + 1\n",
        "                )\n",
        "    #print (matrix)\n",
        "    return (matrix[size_x - 1, size_y - 1])"
      ],
      "metadata": {
        "id": "zz7ouhhdsPKl"
      },
      "execution_count": 5,
      "outputs": []
    },
    {
      "cell_type": "code",
      "source": [
        "a = 'stamp'\n",
        "b = 'stomp'\n",
        "levenshtein(a,b)"
      ],
      "metadata": {
        "id": "m1kEKbsCsc_v",
        "outputId": "0a13515e-d126-45e6-efd5-c768c29435aa",
        "colab": {
          "base_uri": "https://localhost:8080/"
        }
      },
      "execution_count": 6,
      "outputs": [
        {
          "output_type": "execute_result",
          "data": {
            "text/plain": [
              "1.0"
            ]
          },
          "metadata": {},
          "execution_count": 6
        }
      ]
    },
    {
      "cell_type": "code",
      "source": [
        "json_target = {\"Versicherungssumme\": \"5000000\", \"Versicherungsnehmer_Name\": \"Zorrsen Beteiligungsgesellschaft mbH\", \"test\": {\"testA\": [{\"key1\": \"value1\", \"key2\": \"value2\"}, {\"key3\": \"value3\", \"key4\": \"value4\"}], \"testB\": 34}}\n",
        "json_result = {\"Versicherungsnehmer_Name\": \"Zorrsen Beteiligungsgesellschaft\", \"test\": {'testB': 34, \"testA\": [{\"key1\": \"value1\", \"key2\": \"value2\"}, {\"key3\": \"value3\", \"key4\": \"value4\"}]}, \"Versicherungssumme\": \"5500000\"}\n",
        "\n",
        "json_target_str = json.dumps(json_target, sort_keys = True)\n",
        "json_result_str = json.dumps(json_result, sort_keys = True)\n",
        "\n",
        "levenshtein(json_target_str,json_result_str)"
      ],
      "metadata": {
        "id": "fgxqAd8pszG1",
        "outputId": "d7a94ea9-134f-43a5-e661-2686abbdd8f3",
        "colab": {
          "base_uri": "https://localhost:8080/"
        }
      },
      "execution_count": 7,
      "outputs": [
        {
          "output_type": "execute_result",
          "data": {
            "text/plain": [
              "5.0"
            ]
          },
          "metadata": {},
          "execution_count": 7
        }
      ]
    },
    {
      "cell_type": "markdown",
      "source": [
        "# Idea: Create flat text-list from JSON\n",
        "\n",
        "sort, then compare"
      ],
      "metadata": {
        "id": "Y4SJ8UJR0XPa"
      }
    },
    {
      "cell_type": "code",
      "source": [
        "from benedict import benedict\n",
        "\n",
        "# source: https://stackoverflow.com/a/58611501\n",
        "d = benedict({'dict1': {'foo': 1, 'bar': 2}, 'dict2': {'baz': 3, 'quux': 4}})\n",
        "d = benedict(json_target)\n",
        "\n",
        "def traverse_item(dct, key, value):\n",
        "   #print('key: {} - value: {}'.format(key, value))\n",
        "   print(str(key) + ': ' + str(value) + ': ' + str(type(value)) )\n",
        "\n",
        "d.traverse(traverse_item)"
      ],
      "metadata": {
        "id": "NA2U21GawFeK",
        "outputId": "8c7583c7-c50a-49f9-99e9-749ac901ca82",
        "colab": {
          "base_uri": "https://localhost:8080/"
        }
      },
      "execution_count": 12,
      "outputs": [
        {
          "output_type": "stream",
          "name": "stdout",
          "text": [
            "Versicherungssumme: 5000000: <class 'str'>\n",
            "Versicherungsnehmer_Name: Zorrsen Beteiligungsgesellschaft mbH: <class 'str'>\n",
            "test: {'testA': [{'key1': 'value1', 'key2': 'value2'}, {'key3': 'value3', 'key4': 'value4'}], 'testB': 34}: <class 'benedict.dicts.benedict'>\n",
            "testA: [{'key1': 'value1', 'key2': 'value2'}, {'key3': 'value3', 'key4': 'value4'}]: <class 'list'>\n",
            "0: {'key1': 'value1', 'key2': 'value2'}: <class 'benedict.dicts.benedict'>\n",
            "key1: value1: <class 'str'>\n",
            "key2: value2: <class 'str'>\n",
            "1: {'key3': 'value3', 'key4': 'value4'}: <class 'benedict.dicts.benedict'>\n",
            "key3: value3: <class 'str'>\n",
            "key4: value4: <class 'str'>\n",
            "testB: 34: <class 'int'>\n"
          ]
        }
      ]
    },
    {
      "cell_type": "code",
      "source": [
        "json.loads()\n",
        "json.dumps(response_JSON_Obj, indent=4)"
      ],
      "metadata": {
        "id": "s2TukchjtQu6"
      },
      "execution_count": null,
      "outputs": []
    }
  ]
}