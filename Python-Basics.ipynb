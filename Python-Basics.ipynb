{
  "nbformat": 4,
  "nbformat_minor": 0,
  "metadata": {
    "colab": {
      "provenance": [],
      "authorship_tag": "ABX9TyOOCTnChY+PMRgwvFUfI4Ka",
      "include_colab_link": true
    },
    "kernelspec": {
      "name": "python3",
      "display_name": "Python 3"
    },
    "language_info": {
      "name": "python"
    }
  },
  "cells": [
    {
      "cell_type": "markdown",
      "metadata": {
        "id": "view-in-github",
        "colab_type": "text"
      },
      "source": [
        "<a href=\"https://colab.research.google.com/github/aknip/Coding-Cheatsheets/blob/main/Python-Basics.ipynb\" target=\"_parent\"><img src=\"https://colab.research.google.com/assets/colab-badge.svg\" alt=\"Open In Colab\"/></a>"
      ]
    },
    {
      "cell_type": "code",
      "source": [
        "!pip install icecream dateparser re --quiet"
      ],
      "metadata": {
        "id": "p54kVoXv38se"
      },
      "execution_count": null,
      "outputs": []
    },
    {
      "cell_type": "markdown",
      "source": [
        "# Debugging"
      ],
      "metadata": {
        "id": "fJsYESKF4iMK"
      }
    },
    {
      "cell_type": "code",
      "source": [
        "# do not use print() - use ic() instead !\n",
        "\n",
        "from icecream import ic\n",
        "def foo(i):\n",
        "    return i + 333\n",
        "ic(foo(123))"
      ],
      "metadata": {
        "id": "hGF0Bugv4fGx",
        "outputId": "3bc726cb-611e-4f6a-d822-c4ae1c15f1be",
        "colab": {
          "base_uri": "https://localhost:8080/"
        }
      },
      "execution_count": null,
      "outputs": [
        {
          "output_type": "stream",
          "name": "stderr",
          "text": [
            "ic| foo(123): 456\n"
          ]
        },
        {
          "output_type": "execute_result",
          "data": {
            "text/plain": [
              "456"
            ]
          },
          "metadata": {},
          "execution_count": 20
        }
      ]
    },
    {
      "cell_type": "markdown",
      "source": [
        "# Strings"
      ],
      "metadata": {
        "id": "TJx8vTFeL749"
      }
    },
    {
      "cell_type": "code",
      "source": [
        "# Langen String im Code mit Backslash auf mehere Zeilen aufteilen\n",
        "long_string = 'Hier die ersten Wörter\\\n",
        " und hier die nächsten. Wichtig:\\\n",
        " Hinter dem Backslash kein SPACE!'\n",
        "\n",
        "\n",
        "# Die ersten 10 Zeichen eines Strings\n",
        "short_string = long_string[:10]\n",
        "\n",
        "# Langen String (ohne Zeilenumbrüche) ausgeben mit Zeilenumbruch bei 80 Zeichen\n",
        "import textwrap\n",
        "print(textwrap.fill(long_string, 80))\n",
        "# Langer String MIT Zeilenumbrüchen\n",
        "for x in long_string.split('\\n'):\n",
        "  print(textwrap.fill(x, 80))\n",
        "\n",
        "# Text in Array splitten - Trennzeichen doppelter Zeilenumbruch\n",
        "paragraphs_array = fulltext.split('\\n\\n')\n",
        "\n",
        "# Array mit Texten in einen String konvertieren, doppelter Zeilenumbruch als Trenner\n",
        "fulltext_from_array = '\\n\\n'.join(paragraphs_array)\n",
        "\n",
        "# Zahl in String wandeln, mit 3 führenden Nullen\n",
        "number_string = str(number).zfill(3) # 007\n",
        "\n",
        "# Datum / Uhrzeit als String\n",
        "from datetime import datetime\n",
        "current_date_time = datetime.now().strftime(\"%d.%m.%Y, %H:%M:%S\")\n",
        "# 15.08.2022, 17:49:46\n",
        "\n"
      ],
      "metadata": {
        "id": "M9eHdMU7LQPA"
      },
      "execution_count": null,
      "outputs": []
    },
    {
      "cell_type": "markdown",
      "source": [
        "# Templating with Strings"
      ],
      "metadata": {
        "id": "LaSCaCCc179H"
      }
    },
    {
      "cell_type": "code",
      "source": [
        "# Nested templates\n",
        "\n",
        "# Variant 1:\n",
        "template = 'Hello, {var1} {var2}.'\n",
        "var1 = 'John'\n",
        "var2 = 'Doe'\n",
        "result1 = template.format(var1=var1, var2=var2)\n",
        "# Hello, John Doe.\n",
        "\n",
        "# Variant 2:\n",
        "def fstr(template):\n",
        "    return eval(f\"f'{template}'\")\n",
        "result2 = fstr(template)\n",
        "# Hello, John Doe.\n",
        "\n",
        "result3 = f\"{template}\" # does not work\n",
        "result4 = f\"Hello {var1}\" # works\n",
        "\n",
        "print(result2)"
      ],
      "metadata": {
        "id": "b-tHRbjf19zL"
      },
      "execution_count": null,
      "outputs": []
    },
    {
      "cell_type": "markdown",
      "source": [
        "# Format date and time / Measure time"
      ],
      "metadata": {
        "id": "Mex_uPR4L3Px"
      }
    },
    {
      "cell_type": "code",
      "source": [
        "# Datum aus String erzeugen, für DE und US\n",
        "# !pip install dateparser\n",
        "import dateparser\n",
        "date_string = \"Montag, 10. Juli 2023 08:42:25\"\n",
        "date_obj = dateparser.parse(date_string)\n",
        "# OR: date_obj = dateparser.parse(date_string, languages=['de'])\n",
        "\n",
        "# Datum / Uhrzeit als string\n",
        "from datetime import datetime\n",
        "current_date_time = datetime.now().strftime(\"%d.%m.%Y, %H:%M:%S\")\n",
        "# 15.08.2022, 17:49:46\n",
        "\n",
        "# Dauer messen\n",
        "import time\n",
        "start = time.time()\n",
        "print(\"hello\")\n",
        "time.sleep(1) # waits for 1 sec\n",
        "end = time.time()\n",
        "print(end - start)"
      ],
      "metadata": {
        "id": "_fdTbpD1LRi9"
      },
      "execution_count": null,
      "outputs": []
    },
    {
      "cell_type": "markdown",
      "source": [
        "# Regex"
      ],
      "metadata": {
        "id": "RKh4M9VyL-i-"
      }
    },
    {
      "cell_type": "code",
      "source": [
        "# Regex Funktionen\n",
        "``` Python\n",
        "import re\n",
        "# Finde Zahl in String, z. B. die \"123\" im folgenden String:\n",
        "#    project x/audio/chunks/segment_123.mp3\n",
        "# https://regex101.com/r/xwBbvc/1\n",
        "file_number_regex = re.findall(\"segment_(\\d+).mp3\", audio_file)\n",
        "if file_number_regex:\n",
        "\tfile_number = file_number_regex[0] # 1st matching group\n",
        "else:\n",
        "\tprint('Nothing found...')\n",
        "\n",
        "# Another demo\n",
        "# Find first occurance\n",
        "input_txt = \"This is a demo text. <Find and replace me>. Lorem ipsum.\"\n",
        "text_inside_tags = re.findall('(?sm)<(.+)>', input_txt)[0]\n",
        "print(text_inside_tags)\n",
        "# Replace using groups\n",
        "new_text = 'REPLACED!'\n",
        "replaced_txt = re.sub('(<)(.+)(>)', r'\\1' + new_text + r'\\3' , input_txt)\n",
        "print(replaced_txt)\n",
        "```\n"
      ],
      "metadata": {
        "id": "_txXeYVKLRlY"
      },
      "execution_count": null,
      "outputs": []
    },
    {
      "cell_type": "markdown",
      "source": [
        "# Array"
      ],
      "metadata": {
        "id": "ig133Sw3MA5p"
      }
    },
    {
      "cell_type": "code",
      "source": [
        "\n",
        "# Array Funktionen\n",
        "``` Python\n",
        "# Loop through array with index (enumerate as \"helper\" for index)\n",
        "for index, part in enumerate(my_array):\n",
        "    print(index,part)\n",
        "\n",
        "```\n"
      ],
      "metadata": {
        "id": "aBx2PHQiLRn-"
      },
      "execution_count": null,
      "outputs": []
    },
    {
      "cell_type": "markdown",
      "source": [
        "# Dictionary"
      ],
      "metadata": {
        "id": "yoskB5hcMD4M"
      }
    },
    {
      "cell_type": "code",
      "source": [
        "\n",
        "\n",
        "\n",
        "# Dictionary (ähnlich Javascript-Objekt/JSON)\n",
        "``` Python\n",
        "# Creating a Dictionary\n",
        "Dict = {'Name': 'Geeks', 1: [1, 2, 3, 4]}\n",
        "print(\"Creating Dictionary: \")\n",
        "print(Dict)\n",
        "\n",
        "# accessing a element using key - without or without default/fallback\n",
        "print(\"Accessing a element using key:\")\n",
        "print(Dict['Name'])\n",
        "print(Dict['Phone'], 'Sorry, no Phone in Dictionary')\n",
        "\n",
        "# accessing a element using get()\n",
        "# method\n",
        "print(\"Accessing a element using get:\")\n",
        "print(Dict.get(1))\n",
        "\n",
        "# creation using Dictionary comprehension\n",
        "myDict = {x: x**2 for x in [1,2,3,4,5]}\n",
        "print(myDict)\n",
        "\n",
        "# convert/print Dictionary to JSON in formatted way\n",
        "print(json.dumps(myDict, sort_keys=True, indent=2))\n",
        "```\n"
      ],
      "metadata": {
        "id": "AoITtxJuLRqN"
      },
      "execution_count": null,
      "outputs": []
    },
    {
      "cell_type": "markdown",
      "source": [
        "# Files"
      ],
      "metadata": {
        "id": "CVz6TyR8MIcq"
      }
    },
    {
      "cell_type": "code",
      "source": [
        "\n",
        "\n",
        "# File schreiben, lesen, kopieren, Pfade/Filenamen bearbeiten\n",
        "``` Python\n",
        "import io\n",
        "import os\n",
        "\n",
        "# Read full file\n",
        "f= open('testfile.txt','r')\n",
        "if f.mode == 'r':\n",
        "      contents =f.read()\n",
        "      print(contents)\n",
        "f.close()\n",
        "\n",
        "# Read file line-by-line\n",
        "f= open('testfile.txt','r')\n",
        "if f.mode == 'r':\n",
        "      f1 = f.readlines()\n",
        "      for x in f1:\n",
        "          print(x)\n",
        "f.close()\n",
        "\n",
        "# Write new file\n",
        "f= open('testfile.txt','w+')\n",
        "for i in range(10):\n",
        "     f.write('This is line %d\\r\\n' % (i+1))\n",
        "f.close()\n",
        "\n",
        "# Append to file\n",
        "f= open('testfile.txt','a+')\n",
        "f.write('this is appended text 1\\r\\n')\n",
        "f.write('this is appended text 2\\r\\n')\n",
        "f.close()\n",
        "\n",
        "# Delete file\n",
        "os.remove('testfile.txt')\n",
        "\n",
        "# Create folder (if it not exists already)\n",
        "if not os.path.exists(text_dir):\n",
        "\tos.mkdir(text_dir)\n",
        "\n",
        "# Copy file\n",
        "import shutil\n",
        "shutil.copyfile(original_with_path, target_with_path)\n",
        "\n",
        "# Get filename from full path\n",
        "just_filename = os.path.basename(full_path_incl_filenmae)\n"
      ],
      "metadata": {
        "id": "v38o9ZnlLRsq"
      },
      "execution_count": null,
      "outputs": []
    },
    {
      "cell_type": "markdown",
      "source": [
        "# ZIP"
      ],
      "metadata": {
        "id": "ax1rrIMyMKg0"
      }
    },
    {
      "cell_type": "code",
      "source": [
        "\n",
        "# ZIP (Archive, zip, unzip)\n",
        "``` Python\n",
        "# 1.\n",
        "# with shutil\n",
        "import shutil\n",
        "# zip\n",
        "shutil.make_archive('archive-name-without-.zip', 'zip', 'folder-which-should-be-zipped')\n",
        "# unzip\n",
        "shutil.unpack_archive('archive.zip', 'destination-folder')\n",
        "\n",
        "# 2.\n",
        "# with zipfile - example: Exclude folder for zip\n",
        "# https://datagy.io/python-zip-unzip-files/\n",
        "import os\n",
        "import zipfile\n",
        "# zip\n",
        "directory = \"folder-which-should-be-zipped\"\n",
        "with zipfile.ZipFile(\"zipfile.zip\", \"w\") as zip:\n",
        "    for subdir, dirs, files in os.walk(directory):\n",
        "        for file in files:\n",
        "            srcpath = os.path.join(subdir, file)\n",
        "            if (subdir != 'exclude-folder1') and (subdir.startswith('exclude-folder2') == False):\n",
        "              #print(subdir)\n",
        "              dstpath_in_zip = os.path.relpath(srcpath, start=directory)\n",
        "              with open(srcpath, 'rb') as infile:\n",
        "                  print(srcpath)\n",
        "                  zip.writestr(dstpath_in_zip, infile.read())\n",
        "# unzip\n",
        "with zipfile.ZipFile('zipfile.zip', 'r') as zip:\n",
        "    zip.printdir()\n",
        "    zip.extractall('./')\n",
        "```\n"
      ],
      "metadata": {
        "id": "kzPXVs5XLjXC"
      },
      "execution_count": null,
      "outputs": []
    },
    {
      "cell_type": "markdown",
      "source": [
        "# Office - Powerpoint"
      ],
      "metadata": {
        "id": "5HxzZqlVML1j"
      }
    },
    {
      "cell_type": "code",
      "source": [
        "\n",
        "\n",
        "# Powerpoint Editieren\n",
        "``` Python\n",
        "# see my Notebook: https://github.com/aknip/Streamlit-Gradio/blob/main/Powerpoint%20and%20PDF%20Generation.ipynb\n",
        "\n",
        "# Source: \"Using Python to Update PowerPoint. Step by step tutorial to edit PowerPoint slides using Python\": https://towardsdatascience.com/use-python-to-automate-the-powerpoint-update-4a385acf1243\n",
        "\n",
        "# Setup:\n",
        "# pip install python-pptx\n",
        "\n",
        "# Fonts:\n",
        "# sudo apt install fonts-open-sans\n",
        "# sudo apt install fonts-roboto\n",
        "\n",
        "from pptx import Presentation\n",
        "my_ppt = Presentation('ppt-input/presentation.pptx')\n",
        "# do something with python-pptx\n",
        "my_ppt.save('ppt-output/presentation2.pptx')\n",
        "```\n",
        "\n",
        "\n",
        "# Powerpoint (Office) zu PDF Konvertieren\n",
        "``` Python\n",
        "# see my Notebook: https://github.com/aknip/Streamlit-Gradio/blob/main/Powerpoint%20and%20PDF%20Generation.ipynb\n",
        "\n",
        "# Source: \"Stackoverflow: Use unoconv on Ubuntu to convert PPTX to PDF\": https://stackoverflow.com/a/63664087\n",
        "\n",
        "# Setup:\n",
        "# sudo apt install unoconv\n",
        "# pip install tqdm\n",
        "\t# pip install glob\n",
        "\n",
        "# Fonts:\n",
        "# sudo apt install fonts-open-sans\n",
        "# sudo apt install fonts-roboto\n",
        "\n",
        "command = 'unoconv -f pdf -o \"pdf-output/presentation.pdf\" \"ppt-input/presentation.pptx\" '\n",
        "os.system(command)\n",
        "```\n"
      ],
      "metadata": {
        "id": "_qs9GalLLjZL"
      },
      "execution_count": null,
      "outputs": []
    },
    {
      "cell_type": "markdown",
      "source": [
        "# Office - Word - Markdown"
      ],
      "metadata": {
        "id": "7FKeeFglMNz7"
      }
    },
    {
      "cell_type": "code",
      "execution_count": null,
      "metadata": {
        "id": "cnp5buvILM1q"
      },
      "outputs": [],
      "source": [
        "\n",
        "# Markdown / Word konvertieren, beide Richtungen (Pandoc / pypandoc)\n",
        "``` Python\n",
        "#pip install pypandoc\n",
        "import pypandoc\n",
        "# md to docx\n",
        "docx_file = pypandoc.convert_file('input_file.md', 'docx', outputfile='output_file.docx')\n",
        "# docx to md\n",
        "md_file = pypandoc.convert_file('input_file.docx', 'md', outputfile='output_file.md')\n",
        "\n",
        "```\n",
        "\n",
        "\n",
        "\n",
        "# Word zu Markdown konvertieren\n",
        "- Ideen/Quellen:\n",
        "\t- https://medium.com/geekculture/how-to-easily-convert-word-to-markdown-with-pandoc-4d60878ccc64\n",
        "\t- https://towardsdatascience.com/word-document-to-html-or-markdown-with-python-37db7150258c\n",
        "\t-\n",
        "\n"
      ]
    },
    {
      "cell_type": "markdown",
      "source": [
        "# Email Conversion .msg"
      ],
      "metadata": {
        "id": "hEzIITILV_fm"
      }
    },
    {
      "cell_type": "code",
      "source": [
        "!pip install extract-msg\n",
        "import extract_msg\n",
        "msg = extract_msg.openMsg(\"./msg/test-email.msg\")\n",
        "# or (better:)\n",
        "!python3 -m extract_msg \"msg/test-email.msg\" --out msg"
      ],
      "metadata": {
        "id": "koG0NZlYLjbm"
      },
      "execution_count": null,
      "outputs": []
    }
  ]
}