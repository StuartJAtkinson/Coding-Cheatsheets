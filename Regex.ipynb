{
  "nbformat": 4,
  "nbformat_minor": 0,
  "metadata": {
    "colab": {
      "provenance": [],
      "authorship_tag": "ABX9TyMZEiHjZ6ducE+u6+PQEJWe",
      "include_colab_link": true
    },
    "kernelspec": {
      "name": "python3",
      "display_name": "Python 3"
    },
    "language_info": {
      "name": "python"
    }
  },
  "cells": [
    {
      "cell_type": "markdown",
      "metadata": {
        "id": "view-in-github",
        "colab_type": "text"
      },
      "source": [
        "<a href=\"https://colab.research.google.com/github/aknip/Coding-Cheatsheets/blob/main/Regex.ipynb\" target=\"_parent\"><img src=\"https://colab.research.google.com/assets/colab-badge.svg\" alt=\"Open In Colab\"/></a>"
      ]
    },
    {
      "cell_type": "code",
      "source": [
        "!pip install icecream regex --quiet"
      ],
      "metadata": {
        "id": "p54kVoXv38se"
      },
      "execution_count": 2,
      "outputs": []
    },
    {
      "cell_type": "code",
      "source": [
        "import regex\n",
        "import json"
      ],
      "metadata": {
        "id": "G7HPCEn1sik2"
      },
      "execution_count": 12,
      "outputs": []
    },
    {
      "cell_type": "markdown",
      "source": [
        "# Debugging"
      ],
      "metadata": {
        "id": "fJsYESKF4iMK"
      }
    },
    {
      "cell_type": "code",
      "source": [
        "# do not use print() - use ic() instead !\n",
        "\n",
        "from icecream import ic\n",
        "def foo(i):\n",
        "    return i + 333\n",
        "ic(foo(123))"
      ],
      "metadata": {
        "id": "hGF0Bugv4fGx",
        "outputId": "20b3588d-351e-491f-fd4f-bbfe8ca045af",
        "colab": {
          "base_uri": "https://localhost:8080/"
        }
      },
      "execution_count": 4,
      "outputs": [
        {
          "output_type": "stream",
          "name": "stderr",
          "text": [
            "ic| foo(123): 456\n"
          ]
        },
        {
          "output_type": "execute_result",
          "data": {
            "text/plain": [
              "456"
            ]
          },
          "metadata": {},
          "execution_count": 4
        }
      ]
    },
    {
      "cell_type": "markdown",
      "source": [
        "# Helper"
      ],
      "metadata": {
        "id": "B6WDK7_2t6nx"
      }
    },
    {
      "cell_type": "code",
      "source": [
        "def clean_JSON (input_json):\n",
        "  # cleans JSON: format, encoding...\n",
        "  response_JSON = input_json\n",
        "  try:\n",
        "    # remove line breaks from JSON\n",
        "    response_JSON = json.dumps(json.loads(input_json))\n",
        "    # Fix some escaped characters\n",
        "    response_JSON = response_JSON.replace('\\_', '_')\n",
        "    # convert UNICODEs (caused by pd?)\n",
        "    response_JSON = (response_JSON.encode('latin-1').decode('unicode_escape'))\n",
        "  except:\n",
        "    print('JSON error')\n",
        "  return response_JSON\n",
        "\n",
        "response_JSON = json.dumps(json.loads(tescht))\n",
        "clean_JSON('{\"action\": \"review\", \\n  \"options\": {\\n\"opt1\": 1,\\n \"opt2\": 2},  \\n  \"colors\": 3\\n}')"
      ],
      "metadata": {
        "colab": {
          "base_uri": "https://localhost:8080/",
          "height": 35
        },
        "id": "dX1f06ept7mD",
        "outputId": "36d76083-0fc5-47b6-9e38-b8b34f64c98a"
      },
      "execution_count": 21,
      "outputs": [
        {
          "output_type": "execute_result",
          "data": {
            "text/plain": [
              "'{\"action\": \"review\", \"options\": {\"opt1\": 1, \"opt2\": 2}, \"colors\": 3}'"
            ],
            "application/vnd.google.colaboratory.intrinsic+json": {
              "type": "string"
            }
          },
          "metadata": {},
          "execution_count": 21
        }
      ]
    },
    {
      "cell_type": "markdown",
      "source": [
        "# Extract parts"
      ],
      "metadata": {
        "id": "TJx8vTFeL749"
      }
    },
    {
      "cell_type": "code",
      "source": [
        "# Find all JSONs in a text\n",
        "input_text = '''\\\n",
        "... This is a funny text about stuff,\n",
        "... look at this product {\"action\":\"product\",\"options\":{\"opt1\": 1, \"opt2\": 2}}.\n",
        "... More Text is to come and another JSON string\n",
        "... {\"action\": \"review\",\n",
        "...  \"options\": {\"opt1\": 1, \"opt2\": 2},\n",
        "...  \"colors\": 3\n",
        "... }\n",
        "... '''\n",
        "pattern = regex.compile(r'\\{(?:[^{}]|(?R))*\\}')\n",
        "jsons = pattern.findall(input_text)\n",
        "print(jsons)"
      ],
      "metadata": {
        "colab": {
          "base_uri": "https://localhost:8080/"
        },
        "id": "-ItAamDlsTEK",
        "outputId": "8eccdb77-efff-4eea-ae31-10d94be3bb3b"
      },
      "execution_count": 30,
      "outputs": [
        {
          "output_type": "stream",
          "name": "stdout",
          "text": [
            "['{\"action\":\"product\",\"options\":{\"opt1\": 1, \"opt2\": 2}}', '{\"action\": \"review\",\\n...  \"options\": {\"opt1\": 1, \"opt2\": 2},\\n...  \"colors\": 3\\n... }']\n"
          ]
        }
      ]
    }
  ]
}