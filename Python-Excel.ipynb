{
  "nbformat": 4,
  "nbformat_minor": 0,
  "metadata": {
    "colab": {
      "provenance": [],
      "authorship_tag": "ABX9TyNPlDXlZaPmc/wStZ4OGjNV",
      "include_colab_link": true
    },
    "kernelspec": {
      "name": "python3",
      "display_name": "Python 3"
    },
    "language_info": {
      "name": "python"
    }
  },
  "cells": [
    {
      "cell_type": "markdown",
      "metadata": {
        "id": "view-in-github",
        "colab_type": "text"
      },
      "source": [
        "<a href=\"https://colab.research.google.com/github/aknip/Coding-Cheatsheets/blob/main/Python-Excel.ipynb\" target=\"_parent\"><img src=\"https://colab.research.google.com/assets/colab-badge.svg\" alt=\"Open In Colab\"/></a>"
      ]
    },
    {
      "cell_type": "markdown",
      "source": [
        "# tl;dr\n",
        "\n",
        "- use openpyxl: It's the only solution which can read and **update** existing Excel files. Other frameworks can only **create new** Excel files\n",
        "- all Excel frameworks can not work with computed values (formulas). The initial computed cell value can be read, but it is not updated after updating the sheet. After saving the cell value will be read as \"empty\"!\n",
        "- for full formula suppart a \"real\" Excel engine is needed (Windows, Mac or server solution) and a corresponing framework\n"
      ],
      "metadata": {
        "id": "5PVvW81bJqS6"
      }
    },
    {
      "cell_type": "code",
      "execution_count": null,
      "metadata": {
        "id": "0O1ck0sc0m2v"
      },
      "outputs": [],
      "source": [
        "!pip install pandas openpyxl itables"
      ]
    },
    {
      "cell_type": "code",
      "source": [
        "import json\n",
        "import os\n",
        "import textwrap\n",
        "import pandas as pd\n",
        "from itables import init_notebook_mode, show\n",
        "\n",
        "init_notebook_mode(all_interactive=False)\n",
        "# Display only one decimal place\n",
        "pd.set_option('display.float_format', '{:.2f}'.format)\n",
        "# Suppress warning messages in output\n",
        "from warnings import filterwarnings\n",
        "filterwarnings('ignore')"
      ],
      "metadata": {
        "id": "myZYsW9oZkEv"
      },
      "execution_count": null,
      "outputs": []
    },
    {
      "cell_type": "markdown",
      "source": [],
      "metadata": {
        "id": "XRtSIBVsF73Z"
      }
    },
    {
      "cell_type": "markdown",
      "source": [
        "# 1. Create Excel file"
      ],
      "metadata": {
        "id": "qMx9SDXex-CK"
      }
    },
    {
      "cell_type": "code",
      "source": [
        "import pandas as pd\n",
        "import openpyxl\n",
        "from openpyxl import Workbook\n",
        "from openpyxl.utils.dataframe import dataframe_to_rows\n",
        "import datetime\n",
        "\n",
        "# see https://openpyxl.readthedocs.io/en/2.4/pandas.html\n",
        "\n",
        "# Create a Pandas dataframe with demo data\n",
        "df = pd.DataFrame(columns=['Date', 'Time[d]', 'Person', 'Project Name', 'Category', 'Task', 'Jira-Tckt', 'Summary'])\n",
        "df.loc[len(df)] = {'Person': 'Peter Miller', 'Date': datetime.date(2024, 1, 3) , 'Time[d]': 0.25 , 'Project Name': 'Corporate Website', 'Category': 'Design', 'Task': 'Create Template', 'Jira-Tckt': 'JIRA-1234', 'Summary': 'Worked on template' }\n",
        "df.loc[len(df)] = [datetime.date(2024, 1, 4), 0.1, 'Peter Miller', 'Corporate Website', 'Design', 'Create Template', 'JIRA-1234', 'Bugfixing']\n",
        "df.loc[len(df)] = [datetime.date(2024, 1, 10), 0.15, 'Peter Miller', 'Corporate Website', 'Dev', 'Create Template', 'JIRA-9876', 'Mobile navigation']\n",
        "df.loc[len(df)] = [datetime.date(2024, 1, 15), 0.3, 'Peter Miller', 'Corporate Website', 'Dev', 'Create Template', 'JIRA-9877', 'Desktop navigation']\n",
        "df.loc[len(df)] = [datetime.date(2024, 1, 2), 0.2, 'Maria Meyer', 'Corporate Website', 'Content', 'Homepage Content', 'JIRA-8765', 'Homepage news']\n",
        "df.loc[len(df)] = [datetime.date(2024, 1, 3), 0.5, 'Maria Meyer', 'Corporate Website', 'Content', 'Homepage Content', 'JIRA-8765', 'Homepage news']\n",
        "df.loc[len(df)] = [datetime.date(2024, 1, 9), 0.2, 'Maria Meyer', 'Newsletter January', 'Content', 'Corporate News', 'JIRA-5551', 'News list for newsletter']\n",
        "df.loc[len(df)] = [datetime.date(2024, 1, 12), 0.6, 'Maria Meyer', 'Newsletter January', 'Design', 'Corporate News', 'JIRA-5552', 'Photos for newsletter']\n",
        "\n",
        "# cleanup, sort\n",
        "df = df.fillna('')\n",
        "df = df.sort_values(['Date', 'Person'], ascending=[True, True])\n",
        "\n",
        "# save to Excel\n",
        "df.to_excel('test.xlsx', sheet_name='Test Data',index=False, header=True, engine='openpyxl')"
      ],
      "metadata": {
        "id": "fRhw6GLCxQLL"
      },
      "execution_count": null,
      "outputs": []
    },
    {
      "cell_type": "markdown",
      "source": [
        "# 2. Open Excel File and modify it: Columns widths, formating"
      ],
      "metadata": {
        "id": "ojVJBqYE_LAS"
      }
    },
    {
      "cell_type": "code",
      "source": [
        "import openpyxl\n",
        "from openpyxl import Workbook\n",
        "from openpyxl import load_workbook\n",
        "\n",
        "wb = openpyxl.load_workbook(filename = 'test.xlsx') # data_only=True\n",
        "ws = wb[\"Test Data\"] # wb.active\n",
        "\n",
        "# Column widths\n",
        "# Change width of column 2 to 4\n",
        "for i in range(2,5):\n",
        "    ws.column_dimensions[openpyxl.utils.get_column_letter(i)].width = 20\n",
        "# Change width of single columns\n",
        "ws.column_dimensions['H'].width = 30\n",
        "\n",
        "# Column format: date, number\n",
        "ws.column_dimensions['A'].number_format = 'DD.MM.YYYY' # does not work???\n",
        "all_columns_cells = ws['A1:A{}'.format(ws.max_row)]\n",
        "for row in all_columns_cells:\n",
        "  for cell in row:\n",
        "    cell.number_format = 'DD.MM.YYYY'\n",
        "# or via helper function:\n",
        "def style_column(worksheet, range_string, style_string):\n",
        "    range_string2 = range_string.format(ws.max_row)\n",
        "    all_cells = worksheet[range_string2]\n",
        "    for row in all_cells:\n",
        "        for cell in row:\n",
        "            cell.number_format = style_string\n",
        "style_column(ws, 'B2:B{}', '#,##0.00')\n",
        "\n",
        "# Change single cells\n",
        "ws['A3'].number_format = 'DD.MM.YYYY'\n",
        "\n",
        "# Create new workshett\n",
        "ws_new = wb.create_sheet('Log Data')\n",
        "\n",
        "wb.save('test.xlsx')"
      ],
      "metadata": {
        "id": "FtIuK1Jm_fm-"
      },
      "execution_count": null,
      "outputs": []
    },
    {
      "cell_type": "markdown",
      "source": [
        "## 2.1 Loop through cells of Excel file"
      ],
      "metadata": {
        "id": "-q4FSqZp6j7z"
      }
    },
    {
      "cell_type": "code",
      "source": [
        "wb = openpyxl.load_workbook(filename = 'test.xlsx')\n",
        "ws = wb[\"Test Data\"] # wb.active\n",
        "\n",
        "max_column_count = ws.max_column\n",
        "max_row_count = ws.max_row\n",
        "for rows in range (1, max_row_count+1):\n",
        "  for columns in range (1, max_column_count+1):\n",
        "    cell = ws.cell(row=rows, column=columns)\n",
        "    print(cell.value)"
      ],
      "metadata": {
        "id": "0wZs_9Zl6oJM"
      },
      "execution_count": null,
      "outputs": []
    },
    {
      "cell_type": "markdown",
      "source": [
        "# 2.2 Copy sheet from file to file"
      ],
      "metadata": {
        "id": "FcbodJin6ogE"
      }
    },
    {
      "cell_type": "code",
      "source": [
        "# Excel tools\n",
        "\n",
        "# Style column: style_column(ws, 'A2:A{}', 'DD.MM.YYYY')\n",
        "def style_column (worksheet, range_string, style_string):\n",
        "    range_string2 = range_string.format(ws.max_row)\n",
        "    all_cells = worksheet[range_string2]\n",
        "    for row in all_cells:\n",
        "        for cell in row:\n",
        "            cell.number_format = style_string\n",
        "\n",
        "# Copy worksheet from one Excel file to another\n",
        "def copy_worksheet(source_ws, target_ws):\n",
        "    target_ws.title = source_ws.title\n",
        "    for row in source_ws.iter_rows():\n",
        "        for cell in row:\n",
        "            target_ws[cell.coordinate].value = cell.value\n",
        "            target_ws[cell.coordinate].font = cell.font.copy()\n",
        "            target_ws[cell.coordinate].border = cell.border.copy()\n",
        "            target_ws[cell.coordinate].fill = cell.fill.copy()\n",
        "            target_ws[cell.coordinate].number_format = cell.number_format\n",
        "            target_ws[cell.coordinate].protection = cell.protection.copy()\n",
        "            target_ws[cell.coordinate].alignment = cell.alignment.copy()\n",
        "            target_ws[cell.coordinate].comment = cell.comment\n",
        "    # todo: Copy columns widhts !\n",
        "    for i in range(target_ws.min_column, target_ws.max_column+1):\n",
        "        target_ws.column_dimensions[openpyxl.utils.get_column_letter(i)].width = source_ws.column_dimensions[openpyxl.utils.get_column_letter(i)].width"
      ],
      "metadata": {
        "id": "t-YUF3sz6tFc"
      },
      "execution_count": null,
      "outputs": []
    },
    {
      "cell_type": "code",
      "source": [
        "# Source: Load file\n",
        "wb1 = openpyxl.load_workbook(filename = 'test.xlsx')\n",
        "ws1 = wb1[\"Test Data\"] # wb.active\n",
        "\n",
        "# Target: Create new file\n",
        "wb2 = openpyxl.Workbook()\n",
        "ws2 = wb2.active # ws2 = wb2.create_sheet()\n",
        "\n",
        "# Copy sheet ws1 to ws2\n",
        "copy_worksheet(ws1, ws2)\n",
        "\n",
        "wb2.save('test2.xlsx')"
      ],
      "metadata": {
        "id": "jB6YMeyB66d7"
      },
      "execution_count": null,
      "outputs": []
    },
    {
      "cell_type": "markdown",
      "source": [
        "# 3.1 Open Excel file as dataframe"
      ],
      "metadata": {
        "id": "aPYRadlYz2v1"
      }
    },
    {
      "cell_type": "code",
      "source": [
        "df = pd.read_excel('test.xlsx', sheet_name='Test Data') # , skiprows=1, skipfooter=1 # parse_dates=['date'] # dtype={'column_name': float}\n",
        "df = df.fillna('')\n",
        "df['Date'] = pd.to_datetime(df['Date'], format='mixed', errors='coerce')\n",
        "#df = df.drop(columns=['not-needed-1', 'not-needed-2']) # delete columns not needed\n",
        "df.head()"
      ],
      "metadata": {
        "id": "eQ-GM5MqzMwQ"
      },
      "execution_count": null,
      "outputs": []
    },
    {
      "cell_type": "code",
      "source": [
        "print(\"\\nIterating 1:\")\n",
        "for i in df.index:\n",
        "    print(i, df['Person'][i],df['Summary'][i])\n",
        "\n",
        "print(\"\\nIterating 2:\")\n",
        "for index, row in df.iterrows():\n",
        "    name = row['Person']\n",
        "    prompt = row['Summary']\n",
        "    print(f\"{index}: {name}, {prompt}\")"
      ],
      "metadata": {
        "id": "iYMldaRqFc80"
      },
      "execution_count": null,
      "outputs": []
    },
    {
      "cell_type": "markdown",
      "source": [
        "# 3.2 Updata data in dataframe and update existing Excel file"
      ],
      "metadata": {
        "id": "jnRHMJPx16hM"
      }
    },
    {
      "cell_type": "code",
      "source": [
        "# Update data at index position 1 and 2\n",
        "df.at[1, 'Person'] = 'Name-Updated'\n",
        "df.at[2, 'Summary'] = 'Summary-Updated'\n",
        "print(df.head())"
      ],
      "metadata": {
        "id": "c7kIjqA22Oy_"
      },
      "execution_count": null,
      "outputs": []
    },
    {
      "cell_type": "code",
      "source": [
        "\n",
        "wb = openpyxl.load_workbook(filename = 'test.xlsx') # data_only=True\n",
        "ws = wb[\"Test Data\"] # wb.active\n",
        "\n",
        "print(\"Updating Excel file:\")\n",
        "for index, row in df.iterrows():\n",
        "    date = row['Date']\n",
        "    time = row['Time[d]']\n",
        "    person = row['Person']\n",
        "    project = row['Project Name']\n",
        "    category = row['Category']\n",
        "    task = row['Task']\n",
        "    jira = row['Jira-Tckt']\n",
        "    summary = row['Summary']\n",
        "    print(f\"{index}: {date}, {person}\")\n",
        "    d = ws.cell(row=index+2, column=2, value=date)\n",
        "    d = ws.cell(row=index+2, column=3, value=time)\n",
        "    d = ws.cell(row=index+2, column=4, value=person)\n",
        "    d = ws.cell(row=index+2, column=5, value=project)\n",
        "    d = ws.cell(row=index+2, column=6, value=category)\n",
        "    d = ws.cell(row=index+2, column=7, value=task)\n",
        "    d = ws.cell(row=index+2, column=8, value=jira)\n",
        "    d = ws.cell(row=index+2, column=9, value=summary)\n",
        "\n",
        "# Alternative: delete data rows and append dataframe to worksheet\n",
        "# continuously delete row 2 until there is only first row (header row) is left over\n",
        "# while(ws.max_row > 1):\n",
        "#     ws.delete_rows(2) # removes the row 2\n",
        "# append dataframe to worksheet\n",
        "# for row in dataframe_to_rows(df, index=False, header=False):\n",
        "#     if row != [None]:\n",
        "#        ws.append(row)\n",
        "\n",
        "# Save the Excel file.\n",
        "wb.save('test.xlsx')"
      ],
      "metadata": {
        "id": "SCUeSs4N2nQV"
      },
      "execution_count": null,
      "outputs": []
    },
    {
      "cell_type": "markdown",
      "source": [
        "# 3.2.1 Updata data in Dataframe and write Excel file / Notes"
      ],
      "metadata": {
        "id": "eCmAfI-1HxeZ"
      }
    },
    {
      "cell_type": "markdown",
      "source": [
        "Pandas to existing Excel\n",
        "\n",
        "How to write data to an arbitrary location in an existing Excel workbook\n",
        "\n",
        "1. manual, iterating:\n",
        "\n",
        "https://stackoverflow.com/questions/72669750/how-to-update-an-existing-excel-spreadsheet-with-data-from-dataframe\n",
        "\n",
        "2. df.to_excel\n",
        "\n",
        "https://stackoverflow.com/questions/69628517/put-pandas-data-frame-to-existing-excel-sheet\n",
        "\n",
        "3. General code examples: How to Process Excel Data in Python and Pandas\n",
        "\n",
        "1 How to Process Excel Files with Python?\n",
        "2 How to Create an Excel File in Python?\n",
        "3 Export Pandas Dataframe to Excel Sheet in Python\n",
        "4 Create an Excel File With Multiple Sheets in Python\n",
        "5 How to Read Excel Data in Python?\n",
        "6 Update an Excel File in Python\n",
        "7 Performing Delete Operations on an Excel File\n",
        "8 Merge Excel Sheets Into a CSV File in Python\n",
        "9 Conclusion\n",
        "\n",
        "https://python.land/data-processing/process-excel-data-in-python-and-pandas\n"
      ],
      "metadata": {
        "id": "JnNVPdG1H5Va"
      }
    },
    {
      "cell_type": "markdown",
      "source": [
        "# 2. Read Excel file (without  dataframe)"
      ],
      "metadata": {
        "id": "vpzGbMdRYpLd"
      }
    },
    {
      "cell_type": "code",
      "source": [
        "workbook = load_workbook(filename = 'test.xlsx') # data_only=True\n",
        "worksheet = workbook['Test Data'] # workbook.active\n",
        "\n",
        "# iterate through headers in row 1\n",
        "# create dictionary to access columns\n",
        "column = {}\n",
        "for column_index, cell in enumerate(worksheet[\"1\"]):\n",
        "  column[cell.value] = column_index + 1\n",
        "\n",
        "# iterate through all lines and rows\n",
        "for row_index, row in enumerate(worksheet):\n",
        "  for column_index, cell in enumerate(row):\n",
        "    cell = worksheet.cell(row=row_index+1, column=column_index+1)\n",
        "    if cell.value != None:\n",
        "      print(cell.value)\n",
        "\n",
        "# Get column nr for header name\n",
        "print(column[\"Person\"])\n",
        "\n",
        "# read data\n",
        "cell = worksheet.cell(row=2, column=2)\n",
        "cell = worksheet[\"B2\"]\n",
        "print(cell.value)\n",
        "\n",
        "# write data\n",
        "cell.value = \"Test\"\n",
        "\n",
        "# Save the Excel file.\n",
        "workbook.save('llm_benchmark.xlsx')"
      ],
      "metadata": {
        "id": "e07Pxw6rYrnS"
      },
      "execution_count": null,
      "outputs": []
    }
  ]
}