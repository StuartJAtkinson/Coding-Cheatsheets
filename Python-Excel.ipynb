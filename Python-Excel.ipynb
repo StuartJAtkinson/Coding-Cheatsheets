{
  "nbformat": 4,
  "nbformat_minor": 0,
  "metadata": {
    "colab": {
      "provenance": [],
      "authorship_tag": "ABX9TyOeb8YcU5pOQAJ1f+7lNhg/",
      "include_colab_link": true
    },
    "kernelspec": {
      "name": "python3",
      "display_name": "Python 3"
    },
    "language_info": {
      "name": "python"
    }
  },
  "cells": [
    {
      "cell_type": "markdown",
      "metadata": {
        "id": "view-in-github",
        "colab_type": "text"
      },
      "source": [
        "<a href=\"https://colab.research.google.com/github/aknip/Coding-Cheatsheets/blob/main/Python-Excel.ipynb\" target=\"_parent\"><img src=\"https://colab.research.google.com/assets/colab-badge.svg\" alt=\"Open In Colab\"/></a>"
      ]
    },
    {
      "cell_type": "markdown",
      "source": [
        "# tl;dr\n",
        "\n",
        "- use openpyxl: It's the only solution which can read and **update** existing Excel files. Other frameworks can only **create new** Excel files\n",
        "- all Excel frameworks can not work with computed values (formulas). The initial computed cell value can be read, but it is not updated after updating the sheet. After saving the cell value will be read as \"empty\"!\n",
        "- for full formula suppart a \"real\" Excel engine is needed (Windows, Mac or server solution) and a corresponing framework\n"
      ],
      "metadata": {
        "id": "5PVvW81bJqS6"
      }
    },
    {
      "cell_type": "code",
      "execution_count": null,
      "metadata": {
        "id": "0O1ck0sc0m2v"
      },
      "outputs": [],
      "source": [
        "!pip install pandas openpyxl"
      ]
    },
    {
      "cell_type": "code",
      "source": [
        "import json\n",
        "import os\n",
        "import textwrap"
      ],
      "metadata": {
        "colab": {
          "base_uri": "https://localhost:8080/"
        },
        "id": "myZYsW9oZkEv",
        "outputId": "09cb2db9-80d2-4419-f30b-53900e5a77fb"
      },
      "execution_count": null,
      "outputs": [
        {
          "name": "stdout",
          "output_type": "stream",
          "text": [
            "Secrets (JSON string): ··········\n"
          ]
        }
      ]
    },
    {
      "cell_type": "markdown",
      "source": [
        "# 1. Create Excel file"
      ],
      "metadata": {
        "id": "qMx9SDXex-CK"
      }
    },
    {
      "cell_type": "code",
      "source": [
        "import pandas as pd\n",
        "import openpyxl\n",
        "from openpyxl import Workbook\n",
        "from openpyxl.utils.dataframe import dataframe_to_rows\n",
        "\n",
        "# see https://openpyxl.readthedocs.io/en/2.4/pandas.html\n",
        "\n",
        "# Create a Pandas dataframe from the data.\n",
        "df = pd.DataFrame({'Name': ['Miller', 'Adams', 'Smith'],\n",
        "                   'Prompt': ['Write something', 'Do different things', 'Summarize it'], })\n",
        "\n",
        "# Create a Pandas Excel writer using openpyxl as the engine.\n",
        "writer = pd.ExcelWriter('llm_benchmark.xlsx', engine='openpyxl')\n",
        "\n",
        "# Convert the dataframe to an XlsxWriter Excel object.\n",
        "df.to_excel(writer, sheet_name='Benchmark', index=True)\n",
        "\n",
        "# Get the xlsxwriter objects from the dataframe writer object.\n",
        "workbook  = writer.book\n",
        "worksheet = writer.sheets['Benchmark']\n",
        "\n",
        "# Save the Excel file.\n",
        "workbook.save('llm_benchmark.xlsx')"
      ],
      "metadata": {
        "id": "fRhw6GLCxQLL"
      },
      "execution_count": null,
      "outputs": []
    },
    {
      "cell_type": "markdown",
      "source": [
        "# 1.1 Style cells and columns"
      ],
      "metadata": {
        "id": "ssi30Du8Gui5"
      }
    },
    {
      "cell_type": "code",
      "source": [
        "from openpyxl.utils import get_column_letter\n",
        "\n",
        "# Column widhts\n",
        "for i in range(1,3):\n",
        "    ws.column_dimensions[openpyxl.utils.get_column_letter(i)].width = 15\n",
        "ws.column_dimensions['A'].width = 10\n",
        "ws.column_dimensions['B'].width = 100\n",
        "\n",
        "# Date, number format\n",
        "ws['A3'].number_format = 'DD.MM.YYYY'\n",
        "ws.column_dimensions['A'].number_format = '#,##0.00' # does not work???\n",
        "# workaround: loop through all cells\n",
        "all_columns_cells = ws['A1:A{}'.format(ws.max_row)]\n",
        "for row in all_columns_cells:\n",
        "  for cell in row:\n",
        "  cell.number_format = 'DD.MM.YYYY'\n",
        "# or via function:\n",
        "def style_column(worksheet, range_string, style_string):\n",
        "    range_string2 = range_string.format(ws.max_row)\n",
        "    all_cells = worksheet[range_string2]\n",
        "    for row in all_cells:\n",
        "        for cell in row:\n",
        "            cell.number_format = style_string\n",
        "style_column(ws, 'A2:A{}', 'DD.MM.YYYY')\n",
        "\n"
      ],
      "metadata": {
        "id": "LFYe-xMUGpYh"
      },
      "execution_count": null,
      "outputs": []
    },
    {
      "cell_type": "markdown",
      "source": [
        "# 2. Read Excel file"
      ],
      "metadata": {
        "id": "vpzGbMdRYpLd"
      }
    },
    {
      "cell_type": "code",
      "source": [
        "import openpyxl\n",
        "from openpyxl import Workbook\n",
        "from openpyxl import load_workbook\n",
        "\n",
        "workbook = load_workbook(filename = 'llm_benchmark.xlsx') # data_only=True\n",
        "worksheet = workbook['Benchmark'] # workbook.active\n",
        "\n",
        "# iterate through headers in row 1\n",
        "# create dictionary to access columns\n",
        "column = {}\n",
        "for column_index, cell in enumerate(worksheet[\"1\"]):\n",
        "  column[cell.value] = column_index + 1\n",
        "\n",
        "# iterate through all lines and rows\n",
        "for row_index, row in enumerate(worksheet):\n",
        "  for column_index, cell in enumerate(row):\n",
        "    cell = worksheet.cell(row=row_index+1, column=column_index+1)\n",
        "    if cell.value != None:\n",
        "      print(cell.value)\n",
        "\n",
        "# Get column nr for header name\n",
        "print(column[\"Prompt\"])\n",
        "\n",
        "# read data\n",
        "cell = worksheet.cell(row=2, column=2)\n",
        "cell = worksheet[\"B2\"]\n",
        "print(cell.value)\n",
        "\n",
        "# write data\n",
        "cell.value = \"Test\"\n",
        "\n",
        "# Save the Excel file.\n",
        "workbook.save('llm_benchmark.xlsx')"
      ],
      "metadata": {
        "id": "e07Pxw6rYrnS",
        "outputId": "94fecc2e-612b-4734-aa9f-f27af0ad6ce6",
        "colab": {
          "base_uri": "https://localhost:8080/"
        }
      },
      "execution_count": null,
      "outputs": [
        {
          "output_type": "stream",
          "name": "stdout",
          "text": [
            "3\n",
            "Miller\n"
          ]
        }
      ]
    },
    {
      "cell_type": "markdown",
      "source": [
        "# 3.1 Read Excel file as dataframe"
      ],
      "metadata": {
        "id": "aPYRadlYz2v1"
      }
    },
    {
      "cell_type": "code",
      "source": [
        "import pandas as pd\n",
        "#import xlrd\n",
        "\n",
        "df = pd.read_excel('llm_benchmark.xlsx', sheet_name='Benchmark') # parse_dates=['date'] # dtype={'column_name': float}\n",
        "#print(df.head())\n",
        "\n",
        "print(\"Given Dataframe :\\n\", df)\n",
        "\n",
        "print(\"\\nIterating 1:\")\n",
        "for i in df.index:\n",
        "    print(i, df['Name'][i],df['Prompt'][i])\n",
        "\n",
        "print(\"\\nIterating 2:\")\n",
        "for index, row in df.iterrows():\n",
        "    name = row['Name']\n",
        "    prompt = row['Prompt']\n",
        "    print(f\"{index}: {name}, {prompt}\")"
      ],
      "metadata": {
        "id": "eQ-GM5MqzMwQ",
        "outputId": "b5a7a8c8-984d-4187-a99c-80a56f26285b",
        "colab": {
          "base_uri": "https://localhost:8080/"
        }
      },
      "execution_count": null,
      "outputs": [
        {
          "output_type": "stream",
          "name": "stdout",
          "text": [
            "Given Dataframe :\n",
            "    Unnamed: 0    Name               Prompt\n",
            "0           0  Miller      Write something\n",
            "1           1   Adams  Do different things\n",
            "2           2   Smith         Summarize it\n",
            "\n",
            "Iterating 1:\n",
            "0 Miller Write something\n",
            "1 Adams Do different things\n",
            "2 Smith Summarize it\n",
            "\n",
            "Iterating 2:\n",
            "0: Miller, Write something\n",
            "1: Adams, Do different things\n",
            "2: Smith, Summarize it\n"
          ]
        }
      ]
    },
    {
      "cell_type": "markdown",
      "source": [
        "# 3.2 Updata data in Dataframe and write Excel file"
      ],
      "metadata": {
        "id": "jnRHMJPx16hM"
      }
    },
    {
      "cell_type": "code",
      "source": [
        "df.at[1, 'Name'] = 'Name-Updated'\n",
        "df.at[2, 'Prompt'] = 'Prompt-Updated'\n",
        "print(df.head())"
      ],
      "metadata": {
        "id": "c7kIjqA22Oy_",
        "outputId": "37731d4c-099a-48e2-ceb0-7af30a1b87ad",
        "colab": {
          "base_uri": "https://localhost:8080/"
        }
      },
      "execution_count": null,
      "outputs": [
        {
          "output_type": "stream",
          "name": "stdout",
          "text": [
            "   Unnamed: 0          Name               Prompt\n",
            "0           0        Miller      Write something\n",
            "1           1  Name-Updated  Do different things\n",
            "2           2         Smith       Prompt-Updated\n"
          ]
        }
      ]
    },
    {
      "cell_type": "code",
      "source": [
        "import pandas as pd\n",
        "import openpyxl\n",
        "from openpyxl import Workbook\n",
        "from openpyxl import load_workbook\n",
        "workbook = load_workbook(filename = 'llm_benchmark.xlsx')\n",
        "worksheet = workbook.active\n",
        "\n",
        "print(\"Updating Excel file:\")\n",
        "for index, row in df.iterrows():\n",
        "    name = row['Name']\n",
        "    prompt = row['Prompt']\n",
        "    print(f\"{index}: {name}, {prompt}\")\n",
        "    d = worksheet.cell(row=index+2, column=2, value=name)\n",
        "    d = worksheet.cell(row=index+2, column=3, value=prompt)\n",
        "\n",
        "# Alternative: delete data rows and append dataframe to worksheet\n",
        "# continuously delete row 2 until there is only first row (header row) is left over\n",
        "# while(worksheet.max_row > 1):\n",
        "#     worksheet.delete_rows(2) # removes the row 2\n",
        "# append dataframe to worksheet\n",
        "# for row in dataframe_to_rows(df, index=False, header=False):\n",
        "#     if row != [None]:\n",
        "#        worksheet.append(row)\n",
        "\n",
        "# Save the Excel file.\n",
        "workbook.save('llm_benchmark.xlsx')"
      ],
      "metadata": {
        "id": "SCUeSs4N2nQV",
        "outputId": "880cd1f7-c5ec-4657-e26d-2d06aaaa7e3d",
        "colab": {
          "base_uri": "https://localhost:8080/"
        }
      },
      "execution_count": null,
      "outputs": [
        {
          "output_type": "stream",
          "name": "stdout",
          "text": [
            "Updating Excel file:\n",
            "0: Miller, Write something\n",
            "1: Name-Updated, Do different things\n",
            "2: Smith, Prompt-Updated\n"
          ]
        }
      ]
    },
    {
      "cell_type": "markdown",
      "source": [
        "# 3.2.1 Updata data in Dataframe and write Excel file / Notes"
      ],
      "metadata": {
        "id": "eCmAfI-1HxeZ"
      }
    },
    {
      "cell_type": "markdown",
      "source": [
        "Pandas to existing Excel\n",
        "\n",
        "How to write data to an arbitrary location in an existing Excel workbook\n",
        "\n",
        "1. manual, iterating:\n",
        "\n",
        "https://stackoverflow.com/questions/72669750/how-to-update-an-existing-excel-spreadsheet-with-data-from-dataframe\n",
        "\n",
        "2. df.to_excel\n",
        "\n",
        "https://stackoverflow.com/questions/69628517/put-pandas-data-frame-to-existing-excel-sheet\n",
        "\n",
        "3. General code examples: How to Process Excel Data in Python and Pandas\n",
        "\n",
        "1 How to Process Excel Files with Python?\n",
        "2 How to Create an Excel File in Python?\n",
        "3 Export Pandas Dataframe to Excel Sheet in Python\n",
        "4 Create an Excel File With Multiple Sheets in Python\n",
        "5 How to Read Excel Data in Python?\n",
        "6 Update an Excel File in Python\n",
        "7 Performing Delete Operations on an Excel File\n",
        "8 Merge Excel Sheets Into a CSV File in Python\n",
        "9 Conclusion\n",
        "\n",
        "https://python.land/data-processing/process-excel-data-in-python-and-pandas\n"
      ],
      "metadata": {
        "id": "JnNVPdG1H5Va"
      }
    }
  ]
}